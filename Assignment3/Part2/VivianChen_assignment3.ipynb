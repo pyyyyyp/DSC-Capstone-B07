{
 "cells": [
  {
   "cell_type": "code",
   "execution_count": 1,
   "id": "4dbafc4b",
   "metadata": {},
   "outputs": [],
   "source": [
    "import gzip\n",
    "import json\n",
    "import pandas as pd\n",
    "import numpy as np\n",
    "from scipy.sparse import coo_matrix\n",
    "\n",
    "with gzip.open('xbar/1/xbar.json.gz','rb') as f:\n",
    "    design = json.loads(f.read().decode('utf-8'))\n",
    "    \n",
    "instances = pd.DataFrame(design['instances'])\n",
    "nets = pd.DataFrame(design['nets'])\n",
    "\n",
    "conn=np.load('xbar/1/xbar_connectivity.npz')\n",
    "A = coo_matrix((conn['data'], (conn['row'], conn['col'])), shape=conn['shape'])\n",
    "A = A.__mul__(A.T)\n",
    "\n",
    "def buildBST(array,start=0,finish=-1):\n",
    "    if finish<0:\n",
    "        finish = len(array)\n",
    "    mid = (start + finish) // 2\n",
    "    if mid-start==1:\n",
    "        ltl=start\n",
    "    else:\n",
    "        ltl=buildBST(array,start,mid)\n",
    "    \n",
    "    if finish-mid==1:\n",
    "        gtl=mid\n",
    "    else:\n",
    "        gtl=buildBST(array,mid,finish)\n",
    "        \n",
    "    return((array[mid],ltl,gtl))\n",
    "\n",
    "congestion_data = np.load('xbar/1/xbar_congestion.npz')\n",
    "xbst=buildBST(congestion_data['xBoundaryList'])\n",
    "ybst=buildBST(congestion_data['yBoundaryList'])\n",
    "demand = np.zeros(shape = [instances.shape[0],])\n",
    "\n",
    "\n",
    "def getGRCIndex(x,y,xbst,ybst):\n",
    "    while (type(xbst)==tuple):\n",
    "        if x < xbst[0]:\n",
    "            xbst=xbst[1]\n",
    "        else:\n",
    "            xbst=xbst[2]\n",
    "            \n",
    "    while (type(ybst)==tuple):\n",
    "        if y < ybst[0]:\n",
    "            ybst=ybst[1]\n",
    "        else:\n",
    "            ybst=ybst[2]\n",
    "            \n",
    "    return ybst, xbst\n",
    "\n",
    "\n",
    "for k in range(instances.shape[0]):\n",
    "    xloc = instances.iloc[k]['xloc']; yloc = instances.iloc[k]['yloc']\n",
    "    i,j=getGRCIndex(xloc,yloc,xbst,ybst)\n",
    "    d = 0 \n",
    "    for l in list(congestion_data['layerList']): \n",
    "        lyr=list(congestion_data['layerList']).index(l)\n",
    "        d += congestion_data['demand'][lyr][i][j]\n",
    "    demand[k] = d\n",
    "        \n",
    "instances['routing_demand'] = demand"
   ]
  },
  {
   "cell_type": "markdown",
   "id": "4645abe0",
   "metadata": {},
   "source": [
    "1a"
   ]
  },
  {
   "cell_type": "code",
   "execution_count": 2,
   "id": "b4bab751",
   "metadata": {},
   "outputs": [],
   "source": [
    "import torch.nn.functional as F\n",
    "import numpy as np\n",
    "import torch\n",
    "import torch.nn as nn\n",
    "import torch.optim as optim\n",
    "from torch.utils.data import DataLoader, TensorDataset\n",
    "from sklearn.model_selection import train_test_split\n",
    "from sklearn.preprocessing import StandardScaler\n",
    "from scipy.sparse import coo_matrix\n",
    "from sklearn.metrics import mean_squared_error, r2_score\n",
    "import scipy.sparse as sp\n",
    "\n",
    "\n",
    "seed = 42\n",
    "np.random.seed(seed)\n",
    "torch.manual_seed(seed)\n",
    "\n",
    "conn=np.load('xbar/1/xbar_connectivity.npz')\n",
    "A = coo_matrix((conn['data'], (conn['row'], conn['col'])), shape=conn['shape'])\n",
    "A = A.__mul__(A.T)\n",
    "A = torch.FloatTensor(np.array(A.todense()))\n",
    "def normalize(mx):\n",
    "    \"\"\"Row-normalize sparse matrix\"\"\"\n",
    "    rowsum = np.array(mx.sum(1))\n",
    "    r_inv = np.power(rowsum, -1).flatten()\n",
    "    r_inv[np.isinf(r_inv)] = 0.\n",
    "    r_mat_inv = sp.diags(r_inv)\n",
    "    mx = r_mat_inv.dot(mx)\n",
    "    return mx\n",
    "A = normalize(A)\n",
    "A = torch.FloatTensor(np.array(A))\n",
    "\n",
    "\n",
    "target_values = instances['routing_demand'] \n",
    "\n",
    "train_size = 0.7\n",
    "indices = np.arange(len(target_values))\n",
    "train_indices, test_indices = train_test_split(indices, train_size=train_size, random_state=seed)\n",
    "\n",
    "scaler = StandardScaler()\n",
    "features = scaler.fit_transform(instances[['xloc', 'yloc', 'cell', 'orient']]) \n",
    "\n",
    "\n",
    "features = torch.FloatTensor(features)\n",
    "targets = torch.FloatTensor(target_values)"
   ]
  },
  {
   "cell_type": "code",
   "execution_count": 3,
   "id": "ee6871b8",
   "metadata": {},
   "outputs": [],
   "source": [
    "class GCN(nn.Module):\n",
    "    def __init__(self, input_dim, hidden_dim, output_dim, num_layers):\n",
    "        super(GCN, self).__init__()\n",
    "        self.num_layers = num_layers\n",
    "        self.gcn_layers = nn.ModuleList([nn.Linear(input_dim, hidden_dim)])\n",
    "        for _ in range(self.num_layers - 2):\n",
    "            self.gcn_layers.append(nn.Linear(hidden_dim, hidden_dim))\n",
    "        self.gcn_layers.append(nn.Linear(hidden_dim, output_dim))\n",
    "\n",
    "    def forward(self, x, adj):\n",
    "        for layer in self.gcn_layers[:-1]:\n",
    "            x = F.relu(layer(torch.matmul(adj, x)))\n",
    "        x = self.gcn_layers[-1](torch.matmul(adj, x))\n",
    "        return x\n",
    "\n",
    "input_dim = features.shape[1]\n",
    "output_dim = 1  \n",
    "hidden_dim = 64\n",
    "num_epochs = 1000\n",
    "learning_rate = 0.01\n",
    "\n"
   ]
  },
  {
   "cell_type": "code",
   "execution_count": 4,
   "id": "29025eb7",
   "metadata": {},
   "outputs": [
    {
     "data": {
      "text/plain": [
       "torch.Size([3952, 4])"
      ]
     },
     "execution_count": 4,
     "metadata": {},
     "output_type": "execute_result"
    }
   ],
   "source": [
    "features.shape"
   ]
  },
  {
   "cell_type": "code",
   "execution_count": 5,
   "id": "af85f384",
   "metadata": {},
   "outputs": [
    {
     "data": {
      "text/plain": [
       "torch.Size([3952, 3952])"
      ]
     },
     "execution_count": 5,
     "metadata": {},
     "output_type": "execute_result"
    }
   ],
   "source": [
    "A.shape"
   ]
  },
  {
   "cell_type": "code",
   "execution_count": 6,
   "id": "1ebb7de3",
   "metadata": {},
   "outputs": [
    {
     "name": "stderr",
     "output_type": "stream",
     "text": [
      "/Users/viv/Library/Python/3.9/lib/python/site-packages/torch/nn/modules/loss.py:535: UserWarning: Using a target size (torch.Size([2766])) that is different to the input size (torch.Size([2766, 1])). This will likely lead to incorrect results due to broadcasting. Please ensure they have the same size.\n",
      "  return F.mse_loss(input, target, reduction=self.reduction)\n"
     ]
    },
    {
     "name": "stdout",
     "output_type": "stream",
     "text": [
      "Layer 1, Epoch 500, Loss: 20.66912078857422\n",
      "Layer 1, Epoch 1000, Loss: 20.424848556518555\n",
      "Layer 1, Epoch 1500, Loss: 20.412565231323242\n",
      "Layer 1, Epoch 2000, Loss: 20.407617568969727\n",
      "Layer 1, Epoch 2500, Loss: 20.405126571655273\n",
      "Layer 1, Epoch 3000, Loss: 20.403888702392578\n",
      "Layer 1, Test Loss: 20.544363021850586\n"
     ]
    },
    {
     "name": "stderr",
     "output_type": "stream",
     "text": [
      "/Users/viv/Library/Python/3.9/lib/python/site-packages/torch/nn/modules/loss.py:535: UserWarning: Using a target size (torch.Size([1186])) that is different to the input size (torch.Size([1186, 1])). This will likely lead to incorrect results due to broadcasting. Please ensure they have the same size.\n",
      "  return F.mse_loss(input, target, reduction=self.reduction)\n"
     ]
    },
    {
     "name": "stdout",
     "output_type": "stream",
     "text": [
      "Layer 2, Epoch 500, Loss: 20.73029899597168\n",
      "Layer 2, Epoch 1000, Loss: 20.47831916809082\n",
      "Layer 2, Epoch 1500, Loss: 20.425373077392578\n",
      "Layer 2, Epoch 2000, Loss: 20.410696029663086\n",
      "Layer 2, Epoch 2500, Loss: 20.405027389526367\n",
      "Layer 2, Epoch 3000, Loss: 20.402406692504883\n",
      "Layer 2, Test Loss: 20.541851043701172\n",
      "Layer 3, Epoch 500, Loss: 20.427040100097656\n",
      "Layer 3, Epoch 1000, Loss: 20.40473747253418\n",
      "Layer 3, Epoch 1500, Loss: 20.40302276611328\n",
      "Layer 3, Epoch 2000, Loss: 20.402299880981445\n",
      "Layer 3, Epoch 2500, Loss: 20.401920318603516\n",
      "Layer 3, Epoch 3000, Loss: 20.40167808532715\n",
      "Layer 3, Test Loss: 20.540998458862305\n",
      "Layer 4, Epoch 500, Loss: 20.41515350341797\n",
      "Layer 4, Epoch 1000, Loss: 20.405214309692383\n",
      "Layer 4, Epoch 1500, Loss: 20.403547286987305\n",
      "Layer 4, Epoch 2000, Loss: 20.402734756469727\n",
      "Layer 4, Epoch 2500, Loss: 20.40222930908203\n",
      "Layer 4, Epoch 3000, Loss: 20.403549194335938\n",
      "Layer 4, Test Loss: 20.543567657470703\n",
      "Layer 5, Epoch 500, Loss: 20.41018295288086\n",
      "Layer 5, Epoch 1000, Loss: 20.405517578125\n",
      "Layer 5, Epoch 1500, Loss: 20.403270721435547\n",
      "Layer 5, Epoch 2000, Loss: 20.402246475219727\n",
      "Layer 5, Epoch 2500, Loss: 20.401968002319336\n",
      "Layer 5, Epoch 3000, Loss: 20.406469345092773\n",
      "Layer 5, Test Loss: 20.546554565429688\n"
     ]
    }
   ],
   "source": [
    "for k in range(1, 6):\n",
    "    model = GCN(input_dim, hidden_dim, output_dim, num_layers=k)\n",
    "    criterion = nn.MSELoss()\n",
    "    optimizer = torch.optim.Adam(model.parameters(), lr=learning_rate)\n",
    "\n",
    "    for epoch in range(3000):\n",
    "        model.train()\n",
    "        optimizer.zero_grad()\n",
    "        outputs = model(features, A)\n",
    "        loss = criterion(outputs[train_indices], targets[train_indices])\n",
    "        loss.backward()\n",
    "        optimizer.step()\n",
    "\n",
    "        if (epoch + 1) % 500 == 0:\n",
    "            print(f\"Layer {k}, Epoch {epoch + 1}, Loss: {loss.item()}\")\n",
    "\n",
    "    model.eval()\n",
    "    with torch.no_grad():\n",
    "        test_outputs = model(features, A)\n",
    "        test_loss = criterion(outputs[test_indices], targets[test_indices])\n",
    "        print(f\"Layer {k}, Test Loss: {test_loss.item()}\")"
   ]
  },
  {
   "cell_type": "markdown",
   "id": "63471f9b",
   "metadata": {},
   "source": [
    "1b"
   ]
  },
  {
   "cell_type": "code",
   "execution_count": 7,
   "id": "7375ed37",
   "metadata": {},
   "outputs": [],
   "source": [
    "class GCN(nn.Module):\n",
    "    def __init__(self, input_dim, hidden_dim, output_dim, num_layers):\n",
    "        super(GCN, self).__init__()\n",
    "        self.num_layers = num_layers\n",
    "        self.gcn_layers = nn.ModuleList([nn.Linear(input_dim, hidden_dim)])\n",
    "        self.attention_weights = nn.ModuleList([nn.Linear(hidden_dim * 2, 1)])\n",
    "        for _ in range(self.num_layers - 2):\n",
    "            self.gcn_layers.append(nn.Linear(hidden_dim, hidden_dim))\n",
    "            self.attention_weights.append(nn.Linear(hidden_dim * 2, 1))\n",
    "        self.gcn_layers.append(nn.Linear(hidden_dim, output_dim))\n",
    "\n",
    "    def forward(self, x, adj):\n",
    "        for layer in self.gcn_layers[:-1]:\n",
    "            x = F.relu(layer(torch.matmul(adj, x)))\n",
    "        for layer_idx in range(self.num_layers - 1):\n",
    "            attention_scores = self.attention_weights[layer_idx](torch.cat((x, torch.matmul(adj, x)), dim=1))\n",
    "            attention_scores = F.softmax(attention_scores, dim=0)\n",
    "            x = x * attention_scores + torch.matmul(adj, x) * (1 - attention_scores)\n",
    "        x = self.gcn_layers[-1](torch.matmul(adj, x))\n",
    "        return x\n",
    "\n",
    "\n",
    "input_dim = features.shape[1]\n",
    "output_dim = 1  \n",
    "hidden_dim = 64\n",
    "num_epochs = 1000\n",
    "learning_rate = 0.01\n",
    "\n"
   ]
  },
  {
   "cell_type": "code",
   "execution_count": 8,
   "id": "4182caaf",
   "metadata": {},
   "outputs": [
    {
     "name": "stdout",
     "output_type": "stream",
     "text": [
      "Layer 1, Epoch 500, Loss: 20.625022888183594\n",
      "Layer 1, Epoch 1000, Loss: 20.45734214782715\n",
      "Layer 1, Epoch 1500, Loss: 20.418825149536133\n",
      "Layer 1, Epoch 2000, Loss: 20.40803337097168\n",
      "Layer 1, Epoch 2500, Loss: 20.404417037963867\n",
      "Layer 1, Epoch 3000, Loss: 20.402830123901367\n",
      "Layer 1, Test Loss: 20.54224967956543\n",
      "Layer 2, Epoch 500, Loss: 20.715463638305664\n",
      "Layer 2, Epoch 1000, Loss: 20.438764572143555\n",
      "Layer 2, Epoch 1500, Loss: 20.413219451904297\n",
      "Layer 2, Epoch 2000, Loss: 20.406387329101562\n",
      "Layer 2, Epoch 2500, Loss: 20.40394401550293\n",
      "Layer 2, Epoch 3000, Loss: 20.40288543701172\n",
      "Layer 2, Test Loss: 20.542524337768555\n",
      "Layer 3, Epoch 500, Loss: 20.404150009155273\n",
      "Layer 3, Epoch 1000, Loss: 20.40196418762207\n",
      "Layer 3, Epoch 1500, Loss: 20.401735305786133\n",
      "Layer 3, Epoch 2000, Loss: 20.401643753051758\n",
      "Layer 3, Epoch 2500, Loss: 20.401660919189453\n",
      "Layer 3, Epoch 3000, Loss: 20.40170669555664\n",
      "Layer 3, Test Loss: 20.540868759155273\n",
      "Layer 4, Epoch 500, Loss: 20.41494369506836\n",
      "Layer 4, Epoch 1000, Loss: 20.406646728515625\n",
      "Layer 4, Epoch 1500, Loss: 20.404239654541016\n",
      "Layer 4, Epoch 2000, Loss: 20.4033203125\n",
      "Layer 4, Epoch 2500, Loss: 20.402475357055664\n",
      "Layer 4, Epoch 3000, Loss: 20.402183532714844\n",
      "Layer 4, Test Loss: 20.541593551635742\n",
      "Layer 5, Epoch 500, Loss: 20.41028594970703\n",
      "Layer 5, Epoch 1000, Loss: 20.405790328979492\n",
      "Layer 5, Epoch 1500, Loss: 20.40410804748535\n",
      "Layer 5, Epoch 2000, Loss: 20.402450561523438\n",
      "Layer 5, Epoch 2500, Loss: 20.40293312072754\n",
      "Layer 5, Epoch 3000, Loss: 20.401952743530273\n",
      "Layer 5, Test Loss: 20.541173934936523\n"
     ]
    }
   ],
   "source": [
    "for k in range(1, 6):\n",
    "    model = GCN(input_dim, hidden_dim, output_dim, num_layers=k)\n",
    "    criterion = nn.MSELoss()\n",
    "    optimizer = torch.optim.Adam(model.parameters(), lr=learning_rate)\n",
    "\n",
    "    for epoch in range(3000):\n",
    "        model.train()\n",
    "        optimizer.zero_grad()\n",
    "        outputs = model(features, A)\n",
    "        loss = criterion(outputs[train_indices], targets[train_indices])\n",
    "        loss.backward()\n",
    "        optimizer.step()\n",
    "\n",
    "        if (epoch + 1) % 500 == 0:\n",
    "            print(f\"Layer {k}, Epoch {epoch + 1}, Loss: {loss.item()}\")\n",
    "\n",
    "\n",
    "    model.eval()\n",
    "    with torch.no_grad():\n",
    "        test_outputs = model(features, A)\n",
    "        test_loss = criterion(outputs[test_indices], targets[test_indices])\n",
    "        print(f\"Layer {k}, Test Loss: {test_loss.item()}\")"
   ]
  },
  {
   "cell_type": "code",
   "execution_count": null,
   "id": "18ae1829",
   "metadata": {},
   "outputs": [],
   "source": []
  },
  {
   "cell_type": "code",
   "execution_count": null,
   "id": "4e0ab8fd",
   "metadata": {},
   "outputs": [],
   "source": []
  },
  {
   "cell_type": "code",
   "execution_count": null,
   "id": "4c40b436",
   "metadata": {},
   "outputs": [],
   "source": []
  },
  {
   "cell_type": "code",
   "execution_count": 11,
   "id": "e7271ca4",
   "metadata": {},
   "outputs": [],
   "source": [
    "with gzip.open('xbar/2/xbar.json.gz','rb') as f:\n",
    "    design = json.loads(f.read().decode('utf-8'))\n",
    "    \n",
    "instances = pd.DataFrame(design['instances'])\n",
    "nets = pd.DataFrame(design['nets'])\n",
    "\n",
    "conn=np.load('xbar/2/xbar_connectivity.npz')\n",
    "A = coo_matrix((conn['data'], (conn['row'], conn['col'])), shape=conn['shape'])\n",
    "A = A.__mul__(A.T)\n",
    "\n",
    "def buildBST(array,start=0,finish=-1):\n",
    "    if finish<0:\n",
    "        finish = len(array)\n",
    "    mid = (start + finish) // 2\n",
    "    if mid-start==1:\n",
    "        ltl=start\n",
    "    else:\n",
    "        ltl=buildBST(array,start,mid)\n",
    "    \n",
    "    if finish-mid==1:\n",
    "        gtl=mid\n",
    "    else:\n",
    "        gtl=buildBST(array,mid,finish)\n",
    "        \n",
    "    return((array[mid],ltl,gtl))\n",
    "\n",
    "congestion_data = np.load('xbar/2/xbar_congestion.npz')\n",
    "xbst=buildBST(congestion_data['xBoundaryList'])\n",
    "ybst=buildBST(congestion_data['yBoundaryList'])\n",
    "demand = np.zeros(shape = [instances.shape[0],])\n",
    "\n",
    "\n",
    "def getGRCIndex(x,y,xbst,ybst):\n",
    "    while (type(xbst)==tuple):\n",
    "        if x < xbst[0]:\n",
    "            xbst=xbst[1]\n",
    "        else:\n",
    "            xbst=xbst[2]\n",
    "            \n",
    "    while (type(ybst)==tuple):\n",
    "        if y < ybst[0]:\n",
    "            ybst=ybst[1]\n",
    "        else:\n",
    "            ybst=ybst[2]\n",
    "            \n",
    "    return ybst, xbst\n",
    "\n",
    "\n",
    "for k in range(instances.shape[0]):\n",
    "    xloc = instances.iloc[k]['xloc']; yloc = instances.iloc[k]['yloc']\n",
    "    i,j=getGRCIndex(xloc,yloc,xbst,ybst)\n",
    "    d = 0 \n",
    "    for l in list(congestion_data['layerList']): \n",
    "        lyr=list(congestion_data['layerList']).index(l)\n",
    "        d += congestion_data['demand'][lyr][i][j]\n",
    "    demand[k] = d\n",
    "        \n",
    "instances['routing_demand'] = demand"
   ]
  },
  {
   "cell_type": "code",
   "execution_count": 12,
   "id": "bf2b0e3b",
   "metadata": {},
   "outputs": [],
   "source": [
    "seed = 42\n",
    "np.random.seed(seed)\n",
    "torch.manual_seed(seed)\n",
    "\n",
    "conn=np.load('xbar/2/xbar_connectivity.npz')\n",
    "A = coo_matrix((conn['data'], (conn['row'], conn['col'])), shape=conn['shape'])\n",
    "A = A.__mul__(A.T)\n",
    "A = torch.FloatTensor(np.array(A.todense()))\n",
    "def normalize(mx):\n",
    "    \"\"\"Row-normalize sparse matrix\"\"\"\n",
    "    rowsum = np.array(mx.sum(1))\n",
    "    r_inv = np.power(rowsum, -1).flatten()\n",
    "    r_inv[np.isinf(r_inv)] = 0.\n",
    "    r_mat_inv = sp.diags(r_inv)\n",
    "    mx = r_mat_inv.dot(mx)\n",
    "    return mx\n",
    "A = normalize(A)\n",
    "A = torch.FloatTensor(np.array(A))\n",
    "\n",
    "\n",
    "target_values = instances['routing_demand'] \n",
    "\n"
   ]
  },
  {
   "cell_type": "code",
   "execution_count": 13,
   "id": "00420dc2",
   "metadata": {},
   "outputs": [],
   "source": [
    "train_size = 0.7\n",
    "indices = np.arange(len(target_values))\n",
    "\n",
    "\n",
    "scaler = StandardScaler()\n",
    "features = scaler.fit_transform(instances[['xloc', 'yloc', 'cell', 'orient']]) \n",
    "\n",
    "\n",
    "features = torch.FloatTensor(features)\n",
    "targets = torch.FloatTensor(target_values)"
   ]
  },
  {
   "cell_type": "code",
   "execution_count": 14,
   "id": "451b2c63",
   "metadata": {},
   "outputs": [],
   "source": [
    "input_dim = features.shape[1]\n",
    "output_dim = 1  \n",
    "hidden_dim = 64\n",
    "num_epochs = 1000\n",
    "learning_rate = 0.01"
   ]
  },
  {
   "cell_type": "code",
   "execution_count": 15,
   "id": "6e1b75cc",
   "metadata": {},
   "outputs": [],
   "source": [
    "test_outputs = model(features, A)\n"
   ]
  },
  {
   "cell_type": "code",
   "execution_count": 16,
   "id": "ff841b29",
   "metadata": {},
   "outputs": [
    {
     "name": "stderr",
     "output_type": "stream",
     "text": [
      "/Users/viv/Library/Python/3.9/lib/python/site-packages/torch/nn/modules/loss.py:535: UserWarning: Using a target size (torch.Size([6872])) that is different to the input size (torch.Size([6872, 1])). This will likely lead to incorrect results due to broadcasting. Please ensure they have the same size.\n",
      "  return F.mse_loss(input, target, reduction=self.reduction)\n"
     ]
    }
   ],
   "source": [
    "test_loss = criterion(test_outputs, targets)\n"
   ]
  },
  {
   "cell_type": "code",
   "execution_count": 20,
   "id": "e815b4cc",
   "metadata": {},
   "outputs": [
    {
     "name": "stdout",
     "output_type": "stream",
     "text": [
      "Test Loss: 174.86117553710938\n"
     ]
    }
   ],
   "source": [
    "print(f\"Test Loss: {test_loss.item()}\")"
   ]
  },
  {
   "cell_type": "code",
   "execution_count": null,
   "id": "26e375db",
   "metadata": {},
   "outputs": [],
   "source": []
  }
 ],
 "metadata": {
  "kernelspec": {
   "display_name": "Python 3 (ipykernel)",
   "language": "python",
   "name": "python3"
  },
  "language_info": {
   "codemirror_mode": {
    "name": "ipython",
    "version": 3
   },
   "file_extension": ".py",
   "mimetype": "text/x-python",
   "name": "python",
   "nbconvert_exporter": "python",
   "pygments_lexer": "ipython3",
   "version": "3.9.6"
  }
 },
 "nbformat": 4,
 "nbformat_minor": 5
}
