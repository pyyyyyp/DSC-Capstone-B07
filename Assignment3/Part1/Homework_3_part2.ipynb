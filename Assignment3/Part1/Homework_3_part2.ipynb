{
 "cells": [
  {
   "cell_type": "markdown",
   "metadata": {
    "id": "kPt5q27L5557"
   },
   "source": [
    "## node2vec"
   ]
  },
  {
   "cell_type": "markdown",
   "metadata": {
    "id": "p0-YhEpP_Ds-"
   },
   "source": [
    "### Setup"
   ]
  },
  {
   "cell_type": "markdown",
   "metadata": {
    "id": "82kmj9fIVlq0"
   },
   "source": [
    "First of all, we install and import necessary libraries such as the node2vec.\n",
    "\n",
    "If you are curious to learn how to implement fast random walks on graphs, I recommend you to [read the blog post](https://urldefense.com/v3/__https://www.singlelunch.com/2019/08/01/700x-faster-node2vec-models-fastest-random-walks-on-a-graph/__;!!Mih3wA!FEx33y1EDmjpebbdYaTA4U_7UrKV-B0ewGtktLMpaiNTZbbWeYnctiA51srcZ8xuC4WnJ1q8f1sLqiKwZcRHOQ$ ) which explains some of the design choices behind this library."
   ]
  },
  {
   "cell_type": "code",
   "execution_count": 20,
   "metadata": {
    "id": "QiIPtudrGlTf"
   },
   "outputs": [],
   "source": [
    "from node2vec import Node2Vec\n",
    "import networkx as nx"
   ]
  },
  {
   "cell_type": "markdown",
   "metadata": {
    "id": "qwtlO4_m_LbQ"
   },
   "source": [
    "Lastly, let's import some of the common libraries needed for our task."
   ]
  },
  {
   "cell_type": "code",
   "execution_count": 21,
   "metadata": {
    "id": "twk-K-jilWK7"
   },
   "outputs": [],
   "source": [
    "import pandas as pd\n",
    "import numpy as np\n",
    "import matplotlib.pyplot as plt\n",
    "from sklearn.manifold import TSNE\n",
    "from sklearn.metrics.pairwise import cosine_similarity\n",
    "\n",
    "%matplotlib inline"
   ]
  },
  {
   "cell_type": "markdown",
   "metadata": {},
   "source": [
    "## Task 1"
   ]
  },
  {
   "cell_type": "code",
   "execution_count": 22,
   "metadata": {},
   "outputs": [],
   "source": [
    "A = np.array([[0,1,1,0], [1,0,1,0],[1,1,0,1],[0,0,1,0]])"
   ]
  },
  {
   "cell_type": "code",
   "execution_count": 23,
   "metadata": {},
   "outputs": [
    {
     "data": {
      "text/plain": [
       "array([[2, 0, 0, 0],\n",
       "       [0, 2, 0, 0],\n",
       "       [0, 0, 3, 0],\n",
       "       [0, 0, 0, 1]])"
      ]
     },
     "execution_count": 23,
     "metadata": {},
     "output_type": "execute_result"
    }
   ],
   "source": [
    "D = np.diag(np.sum(A, axis = 1))\n",
    "D"
   ]
  },
  {
   "cell_type": "code",
   "execution_count": 24,
   "metadata": {},
   "outputs": [
    {
     "data": {
      "text/plain": [
       "array([[0.        , 0.5       , 0.5       , 0.        ],\n",
       "       [0.5       , 0.        , 0.5       , 0.        ],\n",
       "       [0.33333333, 0.33333333, 0.        , 0.33333333],\n",
       "       [0.        , 0.        , 1.        , 0.        ]])"
      ]
     },
     "execution_count": 24,
     "metadata": {},
     "output_type": "execute_result"
    }
   ],
   "source": [
    "M = (np.linalg.inv(D)).dot(A)\n",
    "M"
   ]
  },
  {
   "cell_type": "code",
   "execution_count": 25,
   "metadata": {},
   "outputs": [
    {
     "name": "stdout",
     "output_type": "stream",
     "text": [
      "[0.25 0.25 0.25 0.25]\n",
      "[0.25 0.25 0.25 0.25]\n",
      "[0.25 0.25 0.25 0.25]\n",
      "[0.25 0.25 0.25 0.25]\n",
      "[0.25 0.25 0.25 0.25]\n",
      "[0.25 0.25 0.25 0.25]\n",
      "[0.25 0.25 0.25 0.25]\n",
      "[0.25 0.25 0.25 0.25]\n",
      "[0.25 0.25 0.25 0.25]\n",
      "[0.25 0.25 0.25 0.25]\n"
     ]
    },
    {
     "data": {
      "text/plain": [
       "array([0.25, 0.25, 0.25, 0.25])"
      ]
     },
     "execution_count": 25,
     "metadata": {},
     "output_type": "execute_result"
    }
   ],
   "source": [
    "r = np.ones(M.shape[0]) / np.sum(np.ones(M.shape[0]))\n",
    "for i in range(10):\n",
    "    r = M.dot(r)\n",
    "    print(r)\n",
    "\n",
    "r = r/ np.sum(r)\n",
    "r"
   ]
  },
  {
   "cell_type": "markdown",
   "metadata": {},
   "source": [
    "## Task 2"
   ]
  },
  {
   "cell_type": "markdown",
   "metadata": {
    "id": "kAYRX2PMm0L6"
   },
   "source": [
    "### Example"
   ]
  },
  {
   "cell_type": "code",
   "execution_count": 26,
   "metadata": {},
   "outputs": [
    {
     "data": {
      "text/plain": [
       "'Graph named \"Zachary\\'s Karate Club\" with 34 nodes and 78 edges'"
      ]
     },
     "execution_count": 26,
     "metadata": {},
     "output_type": "execute_result"
    }
   ],
   "source": [
    "# Load the Zachary's Karate Club as a NetworkX Graph object\n",
    "KCG = nx.karate_club_graph()\n",
    "nx.info(KCG)"
   ]
  },
  {
   "cell_type": "code",
   "execution_count": 27,
   "metadata": {
    "id": "2PsVt5f2CsmP"
   },
   "outputs": [
    {
     "name": "stderr",
     "output_type": "stream",
     "text": [
      "Computing transition probabilities: 100%|██████████| 34/34 [00:00<00:00, 3082.71it/s]\n",
      "Generating walks (CPU: 1): 100%|██████████| 50/50 [00:00<00:00, 159.74it/s]\n",
      "Generating walks (CPU: 2): 100%|██████████| 50/50 [00:00<00:00, 155.37it/s]\n"
     ]
    }
   ],
   "source": [
    "# Fit embedding model to the Karate Club graph\n",
    "node2vec = Node2Vec(KCG, dimensions=128, walk_length=40, num_walks=100, workers=2)\n",
    "n2v = node2vec.fit(window=10, min_count=1)"
   ]
  },
  {
   "cell_type": "markdown",
   "metadata": {},
   "source": [
    "### Your Task"
   ]
  },
  {
   "cell_type": "markdown",
   "metadata": {},
   "source": [
    "Create a small wrapper class which will expose only the few hyperparameters you will need to tune the Node2Vec"
   ]
  },
  {
   "cell_type": "code",
   "execution_count": 28,
   "metadata": {},
   "outputs": [],
   "source": [
    "# YOUR CODE HERE\n",
    "class Node2VecWrapper:\n",
    "    def __init__(self, graph, dimensions=2, walk_length=40, num_walks=100, p=1, q=1, workers = 1):\n",
    "        self.graph = graph\n",
    "        self.dimensions = dimensions\n",
    "        self.walk_length = walk_length\n",
    "        self.num_walks = num_walks\n",
    "        self.p = p\n",
    "        self.q = q\n",
    "        self.workers = workers\n",
    "        self.node2vec_model = None\n",
    "\n",
    "    def train(self):\n",
    "        node2vec = Node2Vec(self.graph, dimensions=self.dimensions, walk_length=self.walk_length,\n",
    "                            num_walks=self.num_walks, p=self.p, q=self.q, workers=self.workers)\n",
    "        self.node2vec_model = node2vec.fit(window=10, min_count=1)\n",
    "\n",
    "    def get_embedding(self):\n",
    "        return np.array([self.node2vec_model.wv[str(node)] for node in range(len(self.graph))])"
   ]
  },
  {
   "cell_type": "markdown",
   "metadata": {},
   "source": [
    "Construct a pandas dataframe with the 2D embeddings from node2vec, plus the club name that each node belongs to after the split."
   ]
  },
  {
   "cell_type": "code",
   "execution_count": 29,
   "metadata": {},
   "outputs": [],
   "source": [
    "# KCG.nodes(data = True)\n",
    "# node_embeddings = node2vec_wrapper.node2vec_model.wv\n",
    "# # transform = TSNE  # PCA\n",
    "\n",
    "# # trans = transform(n_components=2)\n",
    "# # node_embeddings_2d = trans.fit_transform(node_embeddings)\n",
    "# # node_embeddings_2d\n",
    "# node_embeddings\n",
    "# embeddings = np.array([n2v_model.wv[str(node)] for node in range(len(KCG))])\n",
    "\n",
    "\n",
    "# [my_n2v.wv[str(node)] for node in KCG.nodes]"
   ]
  },
  {
   "cell_type": "code",
   "execution_count": 30,
   "metadata": {},
   "outputs": [
    {
     "name": "stderr",
     "output_type": "stream",
     "text": [
      "Computing transition probabilities: 100%|██████████| 34/34 [00:00<00:00, 4577.76it/s]\n",
      "Generating walks (CPU: 1): 100%|██████████| 50/50 [00:00<00:00, 143.57it/s]\n",
      "Generating walks (CPU: 2): 100%|██████████| 50/50 [00:00<00:00, 138.17it/s]\n"
     ]
    },
    {
     "data": {
      "text/html": [
       "<div>\n",
       "<style scoped>\n",
       "    .dataframe tbody tr th:only-of-type {\n",
       "        vertical-align: middle;\n",
       "    }\n",
       "\n",
       "    .dataframe tbody tr th {\n",
       "        vertical-align: top;\n",
       "    }\n",
       "\n",
       "    .dataframe thead th {\n",
       "        text-align: right;\n",
       "    }\n",
       "</style>\n",
       "<table border=\"1\" class=\"dataframe\">\n",
       "  <thead>\n",
       "    <tr style=\"text-align: right;\">\n",
       "      <th></th>\n",
       "      <th>x</th>\n",
       "      <th>y</th>\n",
       "      <th>club</th>\n",
       "    </tr>\n",
       "  </thead>\n",
       "  <tbody>\n",
       "    <tr>\n",
       "      <th>0</th>\n",
       "      <td>-0.843477</td>\n",
       "      <td>0.510288</td>\n",
       "      <td>Mr. Hi</td>\n",
       "    </tr>\n",
       "    <tr>\n",
       "      <th>1</th>\n",
       "      <td>-0.812558</td>\n",
       "      <td>0.318367</td>\n",
       "      <td>Mr. Hi</td>\n",
       "    </tr>\n",
       "    <tr>\n",
       "      <th>2</th>\n",
       "      <td>-0.784768</td>\n",
       "      <td>-0.015019</td>\n",
       "      <td>Mr. Hi</td>\n",
       "    </tr>\n",
       "    <tr>\n",
       "      <th>3</th>\n",
       "      <td>-0.813884</td>\n",
       "      <td>0.357190</td>\n",
       "      <td>Mr. Hi</td>\n",
       "    </tr>\n",
       "    <tr>\n",
       "      <th>4</th>\n",
       "      <td>-0.917919</td>\n",
       "      <td>0.973010</td>\n",
       "      <td>Mr. Hi</td>\n",
       "    </tr>\n",
       "    <tr>\n",
       "      <th>5</th>\n",
       "      <td>-0.949569</td>\n",
       "      <td>1.090732</td>\n",
       "      <td>Mr. Hi</td>\n",
       "    </tr>\n",
       "    <tr>\n",
       "      <th>6</th>\n",
       "      <td>-0.944667</td>\n",
       "      <td>1.090989</td>\n",
       "      <td>Mr. Hi</td>\n",
       "    </tr>\n",
       "    <tr>\n",
       "      <th>7</th>\n",
       "      <td>-0.813172</td>\n",
       "      <td>0.363904</td>\n",
       "      <td>Mr. Hi</td>\n",
       "    </tr>\n",
       "    <tr>\n",
       "      <th>8</th>\n",
       "      <td>-0.783486</td>\n",
       "      <td>-0.191838</td>\n",
       "      <td>Mr. Hi</td>\n",
       "    </tr>\n",
       "    <tr>\n",
       "      <th>9</th>\n",
       "      <td>-0.786056</td>\n",
       "      <td>-0.214194</td>\n",
       "      <td>Officer</td>\n",
       "    </tr>\n",
       "    <tr>\n",
       "      <th>10</th>\n",
       "      <td>-0.931996</td>\n",
       "      <td>1.027744</td>\n",
       "      <td>Mr. Hi</td>\n",
       "    </tr>\n",
       "    <tr>\n",
       "      <th>11</th>\n",
       "      <td>-0.849176</td>\n",
       "      <td>0.639398</td>\n",
       "      <td>Mr. Hi</td>\n",
       "    </tr>\n",
       "    <tr>\n",
       "      <th>12</th>\n",
       "      <td>-0.826975</td>\n",
       "      <td>0.388288</td>\n",
       "      <td>Mr. Hi</td>\n",
       "    </tr>\n",
       "    <tr>\n",
       "      <th>13</th>\n",
       "      <td>-0.802701</td>\n",
       "      <td>0.208116</td>\n",
       "      <td>Mr. Hi</td>\n",
       "    </tr>\n",
       "    <tr>\n",
       "      <th>14</th>\n",
       "      <td>-0.806739</td>\n",
       "      <td>-0.709578</td>\n",
       "      <td>Officer</td>\n",
       "    </tr>\n",
       "    <tr>\n",
       "      <th>15</th>\n",
       "      <td>-0.795327</td>\n",
       "      <td>-0.643307</td>\n",
       "      <td>Officer</td>\n",
       "    </tr>\n",
       "    <tr>\n",
       "      <th>16</th>\n",
       "      <td>-1.015237</td>\n",
       "      <td>1.289150</td>\n",
       "      <td>Mr. Hi</td>\n",
       "    </tr>\n",
       "    <tr>\n",
       "      <th>17</th>\n",
       "      <td>-0.819680</td>\n",
       "      <td>0.462209</td>\n",
       "      <td>Mr. Hi</td>\n",
       "    </tr>\n",
       "    <tr>\n",
       "      <th>18</th>\n",
       "      <td>-0.811328</td>\n",
       "      <td>-0.747570</td>\n",
       "      <td>Officer</td>\n",
       "    </tr>\n",
       "    <tr>\n",
       "      <th>19</th>\n",
       "      <td>-0.800522</td>\n",
       "      <td>0.163497</td>\n",
       "      <td>Mr. Hi</td>\n",
       "    </tr>\n",
       "    <tr>\n",
       "      <th>20</th>\n",
       "      <td>-0.793223</td>\n",
       "      <td>-0.591741</td>\n",
       "      <td>Officer</td>\n",
       "    </tr>\n",
       "    <tr>\n",
       "      <th>21</th>\n",
       "      <td>-0.825789</td>\n",
       "      <td>0.453652</td>\n",
       "      <td>Mr. Hi</td>\n",
       "    </tr>\n",
       "    <tr>\n",
       "      <th>22</th>\n",
       "      <td>-0.808084</td>\n",
       "      <td>-0.709675</td>\n",
       "      <td>Officer</td>\n",
       "    </tr>\n",
       "    <tr>\n",
       "      <th>23</th>\n",
       "      <td>-0.814172</td>\n",
       "      <td>-0.869565</td>\n",
       "      <td>Officer</td>\n",
       "    </tr>\n",
       "    <tr>\n",
       "      <th>24</th>\n",
       "      <td>-0.804454</td>\n",
       "      <td>-0.670364</td>\n",
       "      <td>Officer</td>\n",
       "    </tr>\n",
       "    <tr>\n",
       "      <th>25</th>\n",
       "      <td>-0.799345</td>\n",
       "      <td>-0.632546</td>\n",
       "      <td>Officer</td>\n",
       "    </tr>\n",
       "    <tr>\n",
       "      <th>26</th>\n",
       "      <td>-0.819942</td>\n",
       "      <td>-0.858979</td>\n",
       "      <td>Officer</td>\n",
       "    </tr>\n",
       "    <tr>\n",
       "      <th>27</th>\n",
       "      <td>-0.791072</td>\n",
       "      <td>-0.557681</td>\n",
       "      <td>Officer</td>\n",
       "    </tr>\n",
       "    <tr>\n",
       "      <th>28</th>\n",
       "      <td>-0.780624</td>\n",
       "      <td>-0.238660</td>\n",
       "      <td>Officer</td>\n",
       "    </tr>\n",
       "    <tr>\n",
       "      <th>29</th>\n",
       "      <td>-0.817468</td>\n",
       "      <td>-0.819717</td>\n",
       "      <td>Officer</td>\n",
       "    </tr>\n",
       "    <tr>\n",
       "      <th>30</th>\n",
       "      <td>-0.782340</td>\n",
       "      <td>-0.244201</td>\n",
       "      <td>Officer</td>\n",
       "    </tr>\n",
       "    <tr>\n",
       "      <th>31</th>\n",
       "      <td>-0.788371</td>\n",
       "      <td>-0.370094</td>\n",
       "      <td>Officer</td>\n",
       "    </tr>\n",
       "    <tr>\n",
       "      <th>32</th>\n",
       "      <td>-0.802752</td>\n",
       "      <td>-0.603160</td>\n",
       "      <td>Officer</td>\n",
       "    </tr>\n",
       "    <tr>\n",
       "      <th>33</th>\n",
       "      <td>-0.802028</td>\n",
       "      <td>-0.551358</td>\n",
       "      <td>Officer</td>\n",
       "    </tr>\n",
       "  </tbody>\n",
       "</table>\n",
       "</div>"
      ],
      "text/plain": [
       "           x         y     club\n",
       "0  -0.843477  0.510288   Mr. Hi\n",
       "1  -0.812558  0.318367   Mr. Hi\n",
       "2  -0.784768 -0.015019   Mr. Hi\n",
       "3  -0.813884  0.357190   Mr. Hi\n",
       "4  -0.917919  0.973010   Mr. Hi\n",
       "5  -0.949569  1.090732   Mr. Hi\n",
       "6  -0.944667  1.090989   Mr. Hi\n",
       "7  -0.813172  0.363904   Mr. Hi\n",
       "8  -0.783486 -0.191838   Mr. Hi\n",
       "9  -0.786056 -0.214194  Officer\n",
       "10 -0.931996  1.027744   Mr. Hi\n",
       "11 -0.849176  0.639398   Mr. Hi\n",
       "12 -0.826975  0.388288   Mr. Hi\n",
       "13 -0.802701  0.208116   Mr. Hi\n",
       "14 -0.806739 -0.709578  Officer\n",
       "15 -0.795327 -0.643307  Officer\n",
       "16 -1.015237  1.289150   Mr. Hi\n",
       "17 -0.819680  0.462209   Mr. Hi\n",
       "18 -0.811328 -0.747570  Officer\n",
       "19 -0.800522  0.163497   Mr. Hi\n",
       "20 -0.793223 -0.591741  Officer\n",
       "21 -0.825789  0.453652   Mr. Hi\n",
       "22 -0.808084 -0.709675  Officer\n",
       "23 -0.814172 -0.869565  Officer\n",
       "24 -0.804454 -0.670364  Officer\n",
       "25 -0.799345 -0.632546  Officer\n",
       "26 -0.819942 -0.858979  Officer\n",
       "27 -0.791072 -0.557681  Officer\n",
       "28 -0.780624 -0.238660  Officer\n",
       "29 -0.817468 -0.819717  Officer\n",
       "30 -0.782340 -0.244201  Officer\n",
       "31 -0.788371 -0.370094  Officer\n",
       "32 -0.802752 -0.603160  Officer\n",
       "33 -0.802028 -0.551358  Officer"
      ]
     },
     "execution_count": 30,
     "metadata": {},
     "output_type": "execute_result"
    }
   ],
   "source": [
    "node2vec_wrapper = Node2VecWrapper(KCG, dimensions=2, walk_length=40, num_walks=100, p=1, q=1, workers=2)\n",
    "node2vec_wrapper.train()\n",
    "\n",
    "embeddings = np.array([node2vec_wrapper.node2vec_model.wv[str(node)] for node in range(len(KCG))])\n",
    "# embeddings = node2vec_wrapper.get_embedding()\n",
    "\n",
    "# YOUR CODE HERE\n",
    "# Get 2D embeddings and club names\n",
    "# embeddings = []\n",
    "club_names = []\n",
    "for node in KCG.nodes():\n",
    "    # embedding = node2vec_wrapper.node2vec_model.wv[str(node)]\n",
    "    # embeddings.append(embedding)\n",
    "    club_names.append(KCG.nodes[node]['club'])\n",
    "\n",
    "# Construct a pandas DataFrame\n",
    "df = pd.DataFrame(embeddings, columns=['x', 'y'])\n",
    "df['club'] = [KCG.nodes[node]['club'] for node in range(len(KCG))]\n",
    "\n",
    "# Now, df contains the 2D embeddings and club names for each node\n",
    "df\n",
    "\n",
    "# df = pd.DataFrame(embeddings, columns=['x', 'y', 'club'])"
   ]
  },
  {
   "cell_type": "markdown",
   "metadata": {},
   "source": [
    "Nodes who stayed with the Mr. Hi will be plotted in red, while nodes who moved with the Officer will be plotted in blue"
   ]
  },
  {
   "cell_type": "code",
   "execution_count": null,
   "metadata": {
    "id": "fJBTilMGLInb"
   },
   "outputs": [],
   "source": [
    "# # YOUR CODE HERE\n",
    "\n",
    "cmap = {'Mr. Hi':'Red', 'Officer': 'Blue'}\n",
    "colors = df['club'].map(cmap)\n",
    "plt.scatter(x = df['x'], y = df['y'], c=colors)"
   ]
  },
  {
   "cell_type": "markdown",
   "metadata": {
    "id": "e6vmpmj6Ylph"
   },
   "source": [
    "If your example trained correctly, you should notice a clear separation between the blue and red nodes.  Solely from the graph structure, node2vec could predict how the Zachary's Karate Club split!\n",
    "\n",
    "Tune the hyperparameters ```p``` and ```q```, and notice how they affect the resulting embeddings."
   ]
  },
  {
   "cell_type": "markdown",
   "metadata": {
    "id": "x15OQeyys1xd"
   },
   "source": [
    "Now you will study the behavior of node2vec on [barbell graphs](https://urldefense.com/v3/__https://en.wikipedia.org/wiki/Barbell_graph).*5Cn__;JQ!!Mih3wA!FEx33y1EDmjpebbdYaTA4U_7UrKV-B0ewGtktLMpaiNTZbbWeYnctiA51srcZ8xuC4WnJ1q8f1sLqiJXmVCxjQ$ \n",
    "\n",
    "Below you can see a toy example of a barbell graph generated with NetworkX."
   ]
  },
  {
   "cell_type": "code",
   "execution_count": 31,
   "metadata": {
    "id": "xUYxs4E8aHgG"
   },
   "outputs": [
    {
     "data": {
      "image/png": "[encoded data removed]",
      "text/plain": [
       "<Figure size 432x288 with 1 Axes>"
      ]
     },
     "metadata": {},
     "output_type": "display_data"
    }
   ],
   "source": [
    "toy_barbell = nx.barbell_graph(7, 0)\n",
    "nx.draw_kamada_kawai(toy_barbell)"
   ]
  },
  {
   "cell_type": "markdown",
   "metadata": {
    "id": "G7K3-57FyD8D"
   },
   "source": [
    "\n",
    "\n",
    "\n",
    "Generate a larger barbell graph, where each complete graph has exactly 1000 nodes, and the path length between the complete graphs is equal to 1 (i.e., all the nodes in the barbell graph belong to either one of the two complete graphs, and the connecting path does not have any internal node).\n",
    "\n",
    "Then, learn node2vec embeddings on this graph, setting ```p = 1, q = 1``` and ```d = 10```."
   ]
  },
  {
   "cell_type": "code",
   "execution_count": null,
   "metadata": {
    "id": "k_rmp-SvaIOt"
   },
   "outputs": [],
   "source": [
    "# YOUR CODE HERE\n",
    "thousand_barbell = nx.barbell_graph(500, 0)\n",
    "node2vec_wrapper_thousand = Node2VecWrapper(thousand_barbell, dimensions=10, walk_length=40, num_walks=100, p=1, q=1, workers=2)\n",
    "node2vec_wrapper_thousand.train()\n"
   ]
  },
  {
   "cell_type": "code",
   "execution_count": null,
   "metadata": {},
   "outputs": [],
   "source": [
    "thousand_barbell_embeddings = np.array([node2vec_wrapper_thousand.node2vec_model.wv[str(node)] for node in range(len(thousand_barbell))])\n",
    "thousand_barbell_embeddings"
   ]
  },
  {
   "cell_type": "markdown",
   "metadata": {
    "id": "fyxZBVwhzLQe"
   },
   "source": [
    "Write a function that takes as input a node id ```n``` in the graph (e.g., ```5```) and returns a list containing the cosine similarity between the node2vec vector of the input node ```n``` and all the nodes in the given barbell graph (including the similarity with ```n``` itself)."
   ]
  },
  {
   "cell_type": "code",
   "execution_count": null,
   "metadata": {
    "id": "aq7advtkjXSp"
   },
   "outputs": [],
   "source": [
    "# YOUR CODE HERE\n",
    "def calculate_sim(n):\n",
    "    model = node2vec_wrapper.node2vec_model\n",
    "    # Get the embedding of the input node\n",
    "    input_node_embedding = model.wv[str(n)]\n",
    "    \n",
    "    # Calculate cosine similarity with all nodes in the graph\n",
    "    similarities = []\n",
    "    for node in thousand_barbell.nodes():\n",
    "        node_embedding = model.wv[str(node)]\n",
    "        similarity = cosine_similarity([input_node_embedding], [node_embedding])[0][0]\n",
    "        similarities.append(similarity)\n",
    "    return similarities\n",
    "\n",
    "calculate_sim(5)"
   ]
  },
  {
   "cell_type": "markdown",
   "metadata": {
    "id": "zw1oNDDD2dZO"
   },
   "source": [
    "Generate another barbell graph, this time adding a path of length 51 between the two complete graphs. To find out how, refer to the NetworkX documentation: [https://urldefense.com/v3/__https://networkx.github.io/documentation/stable/reference/generated/networkx.generators.classic.barbell_graph.html*networkx.generators.classic.barbell_graph*(https:/*networkx.github.io/documentation/stable/reference/generated/networkx.generators.classic.barbell_graph.html*networkx.generators.classic.barbell_graph)*5Cn__;I10vIyU!!Mih3wA!FEx33y1EDmjpebbdYaTA4U_7UrKV-B0ewGtktLMpaiNTZbbWeYnctiA51srcZ8xuC4WnJ1q8f1sLqiKlerV3og$ \n",
    "\n",
    "Learn the node2vec embeddings for the nodes of this new graph, using the same hyperparameters as before."
   ]
  },
  {
   "cell_type": "code",
   "execution_count": null,
   "metadata": {
    "id": "OlPg6k6z65Gk"
   },
   "outputs": [],
   "source": [
    "# YOUR CODE HERE\n",
    "fiftyone_barbell = nx.barbell_graph(500, 51)\n",
    "node2vec_wrapper_fiftyone = Node2VecWrapper(fiftyone_barbell, dimensions=10, walk_length=40, num_walks=100, p=1, q=1, workers=1)\n",
    "node2vec_wrapper_fiftyone.train()"
   ]
  },
  {
   "cell_type": "code",
   "execution_count": null,
   "metadata": {},
   "outputs": [],
   "source": [
    "fiftyone_embeddings = np.array([node2vec_wrapper_fiftyone.node2vec_model.wv[str(node)] for node in range(len(thousand_barbell))])\n",
    "fiftyone_embeddings"
   ]
  },
  {
   "cell_type": "code",
   "execution_count": null,
   "metadata": {},
   "outputs": [],
   "source": []
  }
 ],
 "metadata": {
  "kernelspec": {
   "display_name": "Python 3 (ipykernel)",
   "language": "python",
   "name": "python3"
  },
  "language_info": {
   "codemirror_mode": {
    "name": "ipython",
    "version": 3
   },
   "file_extension": ".py",
   "mimetype": "text/x-python",
   "name": "python",
   "nbconvert_exporter": "python",
   "pygments_lexer": "ipython3",
   "version": "3.9.7"
  }
 },
 "nbformat": 4,
 "nbformat_minor": 1
}
