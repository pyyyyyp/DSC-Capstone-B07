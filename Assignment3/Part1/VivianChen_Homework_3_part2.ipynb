{
 "cells": [
  {
   "cell_type": "markdown",
   "metadata": {
    "id": "kPt5q27L5557"
   },
   "source": [
    "## node2vec"
   ]
  },
  {
   "cell_type": "markdown",
   "metadata": {
    "id": "p0-YhEpP_Ds-"
   },
   "source": [
    "### Setup"
   ]
  },
  {
   "cell_type": "markdown",
   "metadata": {
    "id": "82kmj9fIVlq0"
   },
   "source": [
    "First of all, we install and import necessary libraries such as the node2vec.\n",
    "\n",
    "If you are curious to learn how to implement fast random walks on graphs, I recommend you to [read the blog post](https://urldefense.com/v3/__https://www.singlelunch.com/2019/08/01/700x-faster-node2vec-models-fastest-random-walks-on-a-graph/__;!!Mih3wA!Ey_JdXNedK5dzQwhjdPxM9PWbDiMfQAvKDwAH-2vIUnqoSRFADmPWbVjdtq-sY86tBScvAGHF_pbi3KMQVcT$ ) which explains some of the design choices behind this library."
   ]
  },
  {
   "cell_type": "code",
   "execution_count": 12,
   "metadata": {
    "id": "QiIPtudrGlTf",
    "vscode": {
     "languageId": "python"
    }
   },
   "outputs": [],
   "source": [
    "from node2vec import Node2Vec\n",
    "import networkx as nx"
   ]
  },
  {
   "cell_type": "markdown",
   "metadata": {
    "id": "qwtlO4_m_LbQ"
   },
   "source": [
    "Lastly, let's import some of the common libraries needed for our task."
   ]
  },
  {
   "cell_type": "code",
   "execution_count": 13,
   "metadata": {
    "id": "twk-K-jilWK7",
    "vscode": {
     "languageId": "python"
    }
   },
   "outputs": [],
   "source": [
    "import pandas as pd\n",
    "import numpy as np\n",
    "import matplotlib.pyplot as plt\n",
    "%matplotlib inline"
   ]
  },
  {
   "cell_type": "markdown",
   "metadata": {
    "id": "kAYRX2PMm0L6"
   },
   "source": [
    "### Example"
   ]
  },
  {
   "cell_type": "code",
   "execution_count": 14,
   "metadata": {},
   "outputs": [
    {
     "name": "stderr",
     "output_type": "stream",
     "text": [
      "/var/folders/3c/h3jpjgb55ms3mx7p9mhssgy00000gn/T/ipykernel_62879/282083699.py:3: DeprecationWarning: info is deprecated and will be removed in version 3.0.\n",
      "\n",
      "  nx.info(KCG)\n"
     ]
    },
    {
     "data": {
      "text/plain": [
       "'Graph named \"Zachary\\'s Karate Club\" with 34 nodes and 78 edges'"
      ]
     },
     "execution_count": 14,
     "metadata": {},
     "output_type": "execute_result"
    }
   ],
   "source": [
    "# Load the Zachary's Karate Club as a NetworkX Graph object\n",
    "KCG = nx.karate_club_graph()\n",
    "nx.info(KCG)"
   ]
  },
  {
   "cell_type": "code",
   "execution_count": 45,
   "metadata": {
    "id": "2PsVt5f2CsmP",
    "vscode": {
     "languageId": "python"
    }
   },
   "outputs": [
    {
     "data": {
      "application/vnd.jupyter.widget-view+json": {
       "model_id": "c288374f5a7a40c78be7f40be12728a2",
       "version_major": 2,
       "version_minor": 0
      },
      "text/plain": [
       "Computing transition probabilities:   0%|          | 0/34 [00:00<?, ?it/s]"
      ]
     },
     "metadata": {},
     "output_type": "display_data"
    },
    {
     "name": "stderr",
     "output_type": "stream",
     "text": [
      "\r",
      "Generating walks (CPU: 2):   0%|          | 0/50 [00:00<?, ?it/s]\r",
      "Generating walks (CPU: 1):   0%|          | 0/50 [00:00<?, ?it/s]\r",
      "Generating walks (CPU: 2):  68%|██████▊   | 34/50 [00:00<00:00, 336.99it/s]\r",
      "Generating walks (CPU: 1):  68%|██████▊   | 34/50 [00:00<00:00, 338.44it/s]\r",
      "Generating walks (CPU: 2): 100%|██████████| 50/50 [00:00<00:00, 326.47it/s]\n",
      "\r",
      "Generating walks (CPU: 1): 100%|██████████| 50/50 [00:00<00:00, 327.58it/s]\n"
     ]
    }
   ],
   "source": [
    "# Fit embedding model to the Karate Club graph\n",
    "node2vec = Node2Vec(KCG, dimensions=128, walk_length=40, num_walks=100, workers=2)\n",
    "n2v = node2vec.fit(window=10, min_count=1)"
   ]
  },
  {
   "cell_type": "markdown",
   "metadata": {},
   "source": [
    "### Your Task"
   ]
  },
  {
   "cell_type": "markdown",
   "metadata": {},
   "source": [
    "Create a small wrapper class which will expose only the few hyperparameters you will need to tune the Node2Vec"
   ]
  },
  {
   "cell_type": "code",
   "execution_count": 46,
   "metadata": {},
   "outputs": [],
   "source": [
    "# YOUR CODE HERE\n",
    "class n2vWrapper:\n",
    "    def __init__(self, graph, dimensions=128, walk_length=40, num_walks=100, workers=2, window=10, min_count=1, p = 1, q = 1):\n",
    "        self.graph = graph\n",
    "        self.dimensions = dimensions\n",
    "        self.walk_length = walk_length\n",
    "        self.num_walks = num_walks\n",
    "        self.workers = workers\n",
    "        self.window = window\n",
    "        self.min_count = min_count\n",
    "\n",
    "    def fit(self):\n",
    "        node2ve = Node2Vec(self.graph, dimensions=self.dimensions, walk_length=self.walk_length, num_walks=self.num_walks, workers=self.workers)\n",
    "        model = node2ve.fit(window=self.window, min_count=self.min_count)\n",
    "        return model\n"
   ]
  },
  {
   "cell_type": "code",
   "execution_count": 47,
   "metadata": {},
   "outputs": [],
   "source": [
    "node2vec_wrapper = n2vWrapper(KCG, dimensions = 2)"
   ]
  },
  {
   "cell_type": "code",
   "execution_count": 48,
   "metadata": {},
   "outputs": [
    {
     "data": {
      "application/vnd.jupyter.widget-view+json": {
       "model_id": "40eea587fa044dc5934e95874745a204",
       "version_major": 2,
       "version_minor": 0
      },
      "text/plain": [
       "Computing transition probabilities:   0%|          | 0/34 [00:00<?, ?it/s]"
      ]
     },
     "metadata": {},
     "output_type": "display_data"
    },
    {
     "name": "stderr",
     "output_type": "stream",
     "text": [
      "\r",
      "Generating walks (CPU: 1):   0%|          | 0/50 [00:00<?, ?it/s]\r",
      "Generating walks (CPU: 2):   0%|          | 0/50 [00:00<?, ?it/s]\r",
      "Generating walks (CPU: 1):  64%|██████▍   | 32/50 [00:00<00:00, 319.67it/s]\r",
      "Generating walks (CPU: 2):  68%|██████▊   | 34/50 [00:00<00:00, 335.69it/s]\r",
      "Generating walks (CPU: 1): 100%|██████████| 50/50 [00:00<00:00, 314.21it/s]\n",
      "\r",
      "Generating walks (CPU: 2): 100%|██████████| 50/50 [00:00<00:00, 324.65it/s]\n"
     ]
    }
   ],
   "source": [
    "node2vec_wrapper = node2vec_wrapper.fit()"
   ]
  },
  {
   "cell_type": "markdown",
   "metadata": {},
   "source": [
    "Construct a pandas dataframe with the 2D embeddings from node2vec, plus the club name that each node belongs to after the split."
   ]
  },
  {
   "cell_type": "code",
   "execution_count": 49,
   "metadata": {
    "id": "ZEjzhwEiC1HD",
    "vscode": {
     "languageId": "python"
    }
   },
   "outputs": [],
   "source": [
    "# YOUR CODE HERE\n",
    "embeddings = []\n",
    "for i in KCG.nodes():\n",
    "    embed = node2vec_wrapper.wv[str(i)]\n",
    "    club = KCG.nodes[i]['club']\n",
    "    embeddings.append((embed[0], embed[1], club))\n",
    "\n",
    "df = pd.DataFrame(embeddings, columns=['x', 'y', 'club'])"
   ]
  },
  {
   "cell_type": "markdown",
   "metadata": {},
   "source": [
    "Nodes who stayed with the Mr. Hi will be plotted in red, while nodes who moved with the Officer will be plotted in blue"
   ]
  },
  {
   "cell_type": "code",
   "execution_count": 50,
   "metadata": {
    "id": "fJBTilMGLInb",
    "vscode": {
     "languageId": "python"
    }
   },
   "outputs": [
    {
     "data": {
      "image/png": "[encoded data removed]",
      "text/plain": [
       "<Figure size 640x480 with 1 Axes>"
      ]
     },
     "metadata": {},
     "output_type": "display_data"
    }
   ],
   "source": [
    "mr_hi = df[df['club'] == 'Mr. Hi']\n",
    "officer = df[df['club'] == 'Officer']\n",
    "\n",
    "plt.figure()\n",
    "plt.scatter(mr_hi['x'], mr_hi['y'],label='Mr. Hi')\n",
    "plt.scatter(officer['x'], officer['y'],label='Officer')\n",
    "\n",
    "\n",
    "plt.title('Node2Vec Embeddings')\n",
    "plt.xlabel('Dim 1')\n",
    "plt.ylabel('Dim 2')\n",
    "plt.legend()\n",
    "\n",
    "plt.show()"
   ]
  },
  {
   "cell_type": "markdown",
   "metadata": {
    "id": "e6vmpmj6Ylph"
   },
   "source": [
    "If your example trained correctly, you should notice a clear separation between the blue and red nodes.  Solely from the graph structure, node2vec could predict how the Zachary's Karate Club split!\n",
    "\n",
    "Tune the hyperparameters ```p``` and ```q```, and notice how they affect the resulting embeddings."
   ]
  },
  {
   "cell_type": "markdown",
   "metadata": {
    "id": "x15OQeyys1xd"
   },
   "source": [
    "Now you will study the behavior of node2vec on [barbell graphs](https://urldefense.com/v3/__https://en.wikipedia.org/wiki/Barbell_graph).*5Cn__;JQ!!Mih3wA!Ey_JdXNedK5dzQwhjdPxM9PWbDiMfQAvKDwAH-2vIUnqoSRFADmPWbVjdtq-sY86tBScvAGHF_pbizGEkq5Z$ \n",
    "Below you can see a toy example of a barbell graph generated with NetworkX."
   ]
  },
  {
   "cell_type": "code",
   "execution_count": 51,
   "metadata": {
    "id": "xUYxs4E8aHgG",
    "vscode": {
     "languageId": "python"
    }
   },
   "outputs": [
    {
     "data": {
      "image/png": "[encoded data removed]",
      "text/plain": [
       "<Figure size 640x480 with 1 Axes>"
      ]
     },
     "metadata": {},
     "output_type": "display_data"
    }
   ],
   "source": [
    "toy_barbell = nx.barbell_graph(7, 0)\n",
    "nx.draw_kamada_kawai(toy_barbell)"
   ]
  },
  {
   "cell_type": "markdown",
   "metadata": {
    "id": "G7K3-57FyD8D"
   },
   "source": [
    "\n",
    "\n",
    "\n",
    "Generate a larger barbell graph, where each complete graph has exactly 1000 nodes, and the path length between the complete graphs is equal to 1 (i.e., all the nodes in the barbell graph belong to either one of the two complete graphs, and the connecting path does not have any internal node).\n",
    "\n",
    "Then, learn node2vec embeddings on this graph, setting ```p = 1, q = 1``` and ```d = 10```."
   ]
  },
  {
   "cell_type": "code",
   "execution_count": 57,
   "metadata": {
    "id": "k_rmp-SvaIOt",
    "vscode": {
     "languageId": "python"
    }
   },
   "outputs": [
    {
     "data": {
      "application/vnd.jupyter.widget-view+json": {
       "model_id": "b11409bc20a74089b44b3861924fe558",
       "version_major": 2,
       "version_minor": 0
      },
      "text/plain": [
       "Computing transition probabilities:   0%|          | 0/201 [00:00<?, ?it/s]"
      ]
     },
     "metadata": {},
     "output_type": "display_data"
    },
    {
     "name": "stderr",
     "output_type": "stream",
     "text": [
      "Generating walks (CPU: 1): 100%|██████████| 50/50 [00:03<00:00, 15.18it/s]\n",
      "Generating walks (CPU: 2): 100%|██████████| 50/50 [00:03<00:00, 15.17it/s]\n"
     ]
    }
   ],
   "source": [
    "larger_barbell = nx.barbell_graph(100, 1)\n",
    "bar2vec = n2vWrapper(larger_barbell, dimensions=10)\n",
    "b2v = bar2vec.fit()"
   ]
  },
  {
   "cell_type": "markdown",
   "metadata": {
    "id": "fyxZBVwhzLQe"
   },
   "source": [
    "Write a function that takes as input a node id ```n``` in the graph (e.g., ```5```) and returns a list containing the cosine similarity between the node2vec vector of the input node ```n``` and all the nodes in the given barbell graph (including the similarity with ```n``` itself)."
   ]
  },
  {
   "cell_type": "code",
   "execution_count": 61,
   "metadata": {
    "id": "aq7advtkjXSp",
    "vscode": {
     "languageId": "python"
    }
   },
   "outputs": [],
   "source": [
    "# YOUR CODE HERE\n",
    "import numpy as np\n",
    "from sklearn.metrics.pairwise import cosine_similarity"
   ]
  },
  {
   "cell_type": "code",
   "execution_count": 67,
   "metadata": {},
   "outputs": [],
   "source": [
    "def cosine_sim(n, n2v):\n",
    "    if str(n) not in n2v.wv:\n",
    "        return\n",
    "\n",
    "    node_vec = n2v.wv[str(n)]\n",
    "\n",
    "    sim_list = []\n",
    "    \n",
    "    for i in n2v.wv.index_to_key:\n",
    "        sim = cosine_similarity([node_vec], [n2v.wv[i]])[0][0]\n",
    "        sim_list.append((i, sim))\n",
    "\n",
    "    return sim_list"
   ]
  },
  {
   "cell_type": "code",
   "execution_count": 68,
   "metadata": {
    "scrolled": true
   },
   "outputs": [
    {
     "data": {
      "text/plain": [
       "[('99', 0.88622636),\n",
       " ('108', 0.08820343),\n",
       " ('101', 0.07870315),\n",
       " ('123', 0.082012504),\n",
       " ('146', 0.07619965),\n",
       " ('141', 0.075507514),\n",
       " ('185', 0.075145826),\n",
       " ('169', 0.07643981),\n",
       " ('88', 0.9891197),\n",
       " ('177', 0.08201582),\n",
       " ('89', 0.9834734),\n",
       " ('33', 0.9784719),\n",
       " ('15', 0.985878),\n",
       " ('73', 0.97449017),\n",
       " ('127', 0.07751113),\n",
       " ('96', 0.993354),\n",
       " ('192', 0.09206177),\n",
       " ('125', 0.08146567),\n",
       " ('162', 0.077646226),\n",
       " ('143', 0.078854404),\n",
       " ('74', 0.9869145),\n",
       " ('130', 0.07594538),\n",
       " ('6', 0.97533137),\n",
       " ('136', 0.07337217),\n",
       " ('106', 0.07946501),\n",
       " ('112', 0.08158402),\n",
       " ('4', 0.9727295),\n",
       " ('137', 0.0835568),\n",
       " ('71', 0.9824851),\n",
       " ('10', 0.9705622),\n",
       " ('43', 0.9814008),\n",
       " ('58', 0.98765016),\n",
       " ('78', 0.98779863),\n",
       " ('61', 0.99791366),\n",
       " ('67', 0.9814553),\n",
       " ('49', 0.9804816),\n",
       " ('97', 0.9887321),\n",
       " ('181', 0.07343831),\n",
       " ('182', 0.07724629),\n",
       " ('156', 0.085092984),\n",
       " ('98', 0.996881),\n",
       " ('193', 0.06763905),\n",
       " ('154', 0.08045743),\n",
       " ('161', 0.0736363),\n",
       " ('105', 0.08082896),\n",
       " ('54', 0.98380494),\n",
       " ('81', 0.9887984),\n",
       " ('11', 0.9851751),\n",
       " ('9', 0.9858535),\n",
       " ('174', 0.083958),\n",
       " ('102', 0.08080067),\n",
       " ('87', 0.98410773),\n",
       " ('134', 0.07705863),\n",
       " ('93', 0.9892147),\n",
       " ('91', 0.97899747),\n",
       " ('57', 0.97846365),\n",
       " ('179', 0.08989678),\n",
       " ('157', 0.07004189),\n",
       " ('79', 0.99201185),\n",
       " ('160', 0.072083145),\n",
       " ('107', 0.06944099),\n",
       " ('129', 0.08283653),\n",
       " ('48', 0.985506),\n",
       " ('51', 0.99066544),\n",
       " ('94', 0.9858076),\n",
       " ('121', 0.07588576),\n",
       " ('59', 0.9960303),\n",
       " ('122', 0.07065615),\n",
       " ('62', 0.9903003),\n",
       " ('159', 0.07125706),\n",
       " ('178', 0.07915138),\n",
       " ('28', 0.9805604),\n",
       " ('114', 0.08586525),\n",
       " ('63', 0.98904884),\n",
       " ('132', 0.06906957),\n",
       " ('83', 0.9864011),\n",
       " ('34', 0.97753125),\n",
       " ('176', 0.081148714),\n",
       " ('45', 0.9887012),\n",
       " ('187', 0.06750547),\n",
       " ('40', 0.9904627),\n",
       " ('139', 0.08849073),\n",
       " ('149', 0.07533035),\n",
       " ('95', 0.98823935),\n",
       " ('64', 0.98988116),\n",
       " ('190', 0.076791525),\n",
       " ('158', 0.07934769),\n",
       " ('189', 0.08521341),\n",
       " ('13', 0.9785996),\n",
       " ('39', 0.98095113),\n",
       " ('26', 0.9870872),\n",
       " ('75', 0.9859047),\n",
       " ('167', 0.0757892),\n",
       " ('68', 0.98852456),\n",
       " ('56', 0.9851657),\n",
       " ('195', 0.08124332),\n",
       " ('17', 0.9759222),\n",
       " ('170', 0.0808283),\n",
       " ('44', 0.98995787),\n",
       " ('5', 1.0000001),\n",
       " ('22', 0.98757285),\n",
       " ('118', 0.08626166),\n",
       " ('92', 0.9827524),\n",
       " ('138', 0.08487235),\n",
       " ('109', 0.08159817),\n",
       " ('41', 0.98728853),\n",
       " ('196', 0.08197001),\n",
       " ('116', 0.07739771),\n",
       " ('27', 0.98249024),\n",
       " ('104', 0.08763422),\n",
       " ('119', 0.085888006),\n",
       " ('163', 0.07217858),\n",
       " ('168', 0.08620744),\n",
       " ('55', 0.9906451),\n",
       " ('165', 0.07530642),\n",
       " ('111', 0.08144789),\n",
       " ('152', 0.07670497),\n",
       " ('183', 0.08114277),\n",
       " ('25', 0.97076976),\n",
       " ('110', 0.07395281),\n",
       " ('135', 0.08118569),\n",
       " ('47', 0.99304223),\n",
       " ('37', 0.9853953),\n",
       " ('80', 0.9887125),\n",
       " ('16', 0.9902581),\n",
       " ('120', 0.07926406),\n",
       " ('35', 0.99207675),\n",
       " ('151', 0.07288677),\n",
       " ('199', 0.07252353),\n",
       " ('128', 0.07989699),\n",
       " ('142', 0.0862872),\n",
       " ('70', 0.9934777),\n",
       " ('60', 0.9894233),\n",
       " ('42', 0.9903797),\n",
       " ('23', 0.98007244),\n",
       " ('184', 0.08523097),\n",
       " ('150', 0.084714815),\n",
       " ('188', 0.074695386),\n",
       " ('153', 0.06975938),\n",
       " ('115', 0.07382687),\n",
       " ('19', 0.9875615),\n",
       " ('85', 0.99388397),\n",
       " ('3', 0.99602264),\n",
       " ('164', 0.08511947),\n",
       " ('7', 0.98762286),\n",
       " ('66', 0.98154813),\n",
       " ('0', 0.97909504),\n",
       " ('8', 0.9906121),\n",
       " ('124', 0.0742276),\n",
       " ('147', 0.08378351),\n",
       " ('86', 0.9954562),\n",
       " ('29', 0.9878427),\n",
       " ('1', 0.9827769),\n",
       " ('50', 0.985743),\n",
       " ('175', 0.082386054),\n",
       " ('197', 0.074823976),\n",
       " ('77', 0.99150854),\n",
       " ('76', 0.9777774),\n",
       " ('155', 0.08158998),\n",
       " ('191', 0.0785394),\n",
       " ('82', 0.98491496),\n",
       " ('171', 0.078778476),\n",
       " ('140', 0.0756045),\n",
       " ('31', 0.9880253),\n",
       " ('72', 0.9832056),\n",
       " ('24', 0.9921863),\n",
       " ('186', 0.08096895),\n",
       " ('12', 0.987473),\n",
       " ('144', 0.07507267),\n",
       " ('90', 0.99003327),\n",
       " ('180', 0.074579835),\n",
       " ('131', 0.07732621),\n",
       " ('194', 0.08611764),\n",
       " ('14', 0.9625578),\n",
       " ('173', 0.08357325),\n",
       " ('53', 0.9841582),\n",
       " ('20', 0.98764974),\n",
       " ('69', 0.98430973),\n",
       " ('117', 0.07725843),\n",
       " ('84', 0.98923707),\n",
       " ('38', 0.9816836),\n",
       " ('200', 0.08703913),\n",
       " ('126', 0.07422445),\n",
       " ('103', 0.07745057),\n",
       " ('32', 0.9904873),\n",
       " ('113', 0.080643505),\n",
       " ('172', 0.0844212),\n",
       " ('36', 0.9892712),\n",
       " ('65', 0.9881183),\n",
       " ('18', 0.9823412),\n",
       " ('198', 0.09195187),\n",
       " ('166', 0.076138794),\n",
       " ('46', 0.9958831),\n",
       " ('145', 0.08174657),\n",
       " ('30', 0.9856714),\n",
       " ('133', 0.08445388),\n",
       " ('148', 0.07444861),\n",
       " ('52', 0.9919355),\n",
       " ('21', 0.9893524),\n",
       " ('2', 0.984117),\n",
       " ('100', 0.20046356)]"
      ]
     },
     "execution_count": 68,
     "metadata": {},
     "output_type": "execute_result"
    }
   ],
   "source": [
    "cosine_sim(5, b2v)"
   ]
  },
  {
   "cell_type": "markdown",
   "metadata": {
    "id": "zw1oNDDD2dZO"
   },
   "source": [
    "Generate another barbell graph, this time adding a path of length 51 between the two complete graphs. To find out how, refer to the NetworkX documentation: [https://urldefense.com/v3/__https://networkx.github.io/documentation/stable/reference/generated/networkx.generators.classic.barbell_graph.html*networkx.generators.classic.barbell_graph*(https:/*networkx.github.io/documentation/stable/reference/generated/networkx.generators.classic.barbell_graph.html*networkx.generators.classic.barbell_graph)*5Cn__;I10vIyU!!Mih3wA!Ey_JdXNedK5dzQwhjdPxM9PWbDiMfQAvKDwAH-2vIUnqoSRFADmPWbVjdtq-sY86tBScvAGHF_pbizN8t9j_$ \n",
    "Learn the node2vec embeddings for the nodes of this new graph, using the same hyperparameters as before."
   ]
  },
  {
   "cell_type": "code",
   "execution_count": 60,
   "metadata": {
    "id": "OlPg6k6z65Gk",
    "vscode": {
     "languageId": "python"
    }
   },
   "outputs": [
    {
     "data": {
      "application/vnd.jupyter.widget-view+json": {
       "model_id": "4717c134f45249949060045c7965f3d6",
       "version_major": 2,
       "version_minor": 0
      },
      "text/plain": [
       "Computing transition probabilities:   0%|          | 0/201 [00:00<?, ?it/s]"
      ]
     },
     "metadata": {},
     "output_type": "display_data"
    },
    {
     "name": "stderr",
     "output_type": "stream",
     "text": [
      "Generating walks (CPU: 1): 100%|██████████| 50/50 [00:03<00:00, 15.08it/s]\n",
      "Generating walks (CPU: 2): 100%|██████████| 50/50 [00:03<00:00, 15.06it/s]\n"
     ]
    }
   ],
   "source": [
    "long_barbell = nx.barbell_graph(100, 51)\n",
    "long2vec = n2vWrapper(larger_barbell, dimensions=10)\n",
    "l2v = long2vec.fit()"
   ]
  },
  {
   "cell_type": "code",
   "execution_count": null,
   "metadata": {},
   "outputs": [],
   "source": []
  }
 ],
 "metadata": {
  "kernelspec": {
   "display_name": "Python 3 (ipykernel)",
   "language": "python",
   "name": "python3"
  },
  "language_info": {
   "codemirror_mode": {
    "name": "ipython",
    "version": 3
   },
   "file_extension": ".py",
   "mimetype": "text/x-python",
   "name": "python",
   "nbconvert_exporter": "python",
   "pygments_lexer": "ipython3",
   "version": "3.9.6"
  }
 },
 "nbformat": 4,
 "nbformat_minor": 1
}
