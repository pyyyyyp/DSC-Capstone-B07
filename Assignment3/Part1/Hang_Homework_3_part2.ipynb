{
 "cells": [
  {
   "cell_type": "markdown",
   "metadata": {
    "id": "kPt5q27L5557"
   },
   "source": [
    "## node2vec"
   ]
  },
  {
   "cell_type": "markdown",
   "metadata": {
    "id": "p0-YhEpP_Ds-"
   },
   "source": [
    "### Setup"
   ]
  },
  {
   "cell_type": "markdown",
   "metadata": {
    "id": "82kmj9fIVlq0"
   },
   "source": [
    "First of all, we install and import necessary libraries such as the node2vec.\n",
    "\n",
    "If you are curious to learn how to implement fast random walks on graphs, I recommend you to [read the blog post](https://urldefense.com/v3/__https://www.singlelunch.com/2019/08/01/700x-faster-node2vec-models-fastest-random-walks-on-a-graph/__;!!Mih3wA!Fokqf49fxZlFzshNIWB1K4KQJb--bEs4zQ9f139N2mC_sT_L3sTqDWiaw_4bWu8-Cs2vX13fbxwQQtoehQ3aiuo$ ) which explains some of the design choices behind this library."
   ]
  },
  {
   "cell_type": "code",
   "execution_count": 2,
   "metadata": {
    "id": "QiIPtudrGlTf"
   },
   "outputs": [],
   "source": [
    "from node2vec import Node2Vec\n",
    "import networkx as nx"
   ]
  },
  {
   "cell_type": "markdown",
   "metadata": {
    "id": "qwtlO4_m_LbQ"
   },
   "source": [
    "Lastly, let's import some of the common libraries needed for our task."
   ]
  },
  {
   "cell_type": "code",
   "execution_count": 3,
   "metadata": {
    "id": "twk-K-jilWK7"
   },
   "outputs": [],
   "source": [
    "import pandas as pd\n",
    "import numpy as np\n",
    "import matplotlib.pyplot as plt\n",
    "%matplotlib inline"
   ]
  },
  {
   "cell_type": "markdown",
   "metadata": {
    "id": "kAYRX2PMm0L6"
   },
   "source": [
    "### Example"
   ]
  },
  {
   "cell_type": "code",
   "execution_count": 4,
   "metadata": {},
   "outputs": [
    {
     "name": "stderr",
     "output_type": "stream",
     "text": [
      "/var/folders/xr/wgz5b_6j3_b9vqkkp2559mvw0000gn/T/ipykernel_3788/282083699.py:3: DeprecationWarning: info is deprecated and will be removed in version 3.0.\n",
      "\n",
      "  nx.info(KCG)\n"
     ]
    },
    {
     "data": {
      "text/plain": [
       "'Graph named \"Zachary\\'s Karate Club\" with 34 nodes and 78 edges'"
      ]
     },
     "execution_count": 4,
     "metadata": {},
     "output_type": "execute_result"
    }
   ],
   "source": [
    "# Load the Zachary's Karate Club as a NetworkX Graph object\n",
    "KCG = nx.karate_club_graph()\n",
    "nx.info(KCG)"
   ]
  },
  {
   "cell_type": "code",
   "execution_count": 11,
   "metadata": {
    "id": "2PsVt5f2CsmP"
   },
   "outputs": [
    {
     "data": {
      "application/vnd.jupyter.widget-view+json": {
       "model_id": "935400ebaca8439a9cda66a6114fcb79",
       "version_major": 2,
       "version_minor": 0
      },
      "text/plain": [
       "Computing transition probabilities:   0%|          | 0/34 [00:00<?, ?it/s]"
      ]
     },
     "metadata": {},
     "output_type": "display_data"
    },
    {
     "name": "stderr",
     "output_type": "stream",
     "text": [
      "Generating walks (CPU: 1): 100%|██████████| 50/50 [00:00<00:00, 214.19it/s]\n",
      "Generating walks (CPU: 2): 100%|██████████| 50/50 [00:00<00:00, 197.25it/s]\n"
     ]
    }
   ],
   "source": [
    "# Fit embedding model to the Karate Club graph\n",
    "node2vec = Node2Vec(KCG, dimensions=128, walk_length=40, num_walks=100, workers=2)\n",
    "n2v = node2vec.fit(window=10, min_count=1)"
   ]
  },
  {
   "cell_type": "markdown",
   "metadata": {},
   "source": [
    "### Your Task"
   ]
  },
  {
   "cell_type": "markdown",
   "metadata": {},
   "source": [
    "Create a small wrapper class which will expose only the few hyperparameters you will need to tune the Node2Vec"
   ]
  },
  {
   "cell_type": "code",
   "execution_count": 12,
   "metadata": {},
   "outputs": [],
   "source": [
    "# YOUR CODE HERE\n",
    "\n",
    "class Node2VecWrapper:\n",
    "    def __init__(self, dimensions=128, walk_length=40, num_walks=100, workers=2):\n",
    "        self.dimensions = dimensions\n",
    "        self.walk_length = walk_length\n",
    "        self.num_walks = num_walks\n",
    "        self.workers = workers\n",
    "        self.model = None\n",
    "\n",
    "    def fit(self, graph):\n",
    "        node2vec = Node2Vec(graph, dimensions=self.dimensions, walk_length=self.walk_length,\n",
    "                            num_walks=self.num_walks, workers=2)\n",
    "        self.model = node2vec.fit(window=10, min_count=1)"
   ]
  },
  {
   "cell_type": "code",
   "execution_count": 13,
   "metadata": {},
   "outputs": [
    {
     "data": {
      "application/vnd.jupyter.widget-view+json": {
       "model_id": "38f00b0f8e494b3fa74cc665fd3bc08a",
       "version_major": 2,
       "version_minor": 0
      },
      "text/plain": [
       "Computing transition probabilities:   0%|          | 0/34 [00:00<?, ?it/s]"
      ]
     },
     "metadata": {},
     "output_type": "display_data"
    },
    {
     "name": "stderr",
     "output_type": "stream",
     "text": [
      "Generating walks (CPU: 1): 100%|██████████| 50/50 [00:00<00:00, 205.91it/s]\n",
      "Generating walks (CPU: 2): 100%|██████████| 50/50 [00:00<00:00, 203.48it/s]\n"
     ]
    }
   ],
   "source": [
    "node2vec_wrapper = Node2VecWrapper(dimensions=2)\n",
    "node2vec_wrapper.fit(KCG)"
   ]
  },
  {
   "cell_type": "markdown",
   "metadata": {},
   "source": [
    "Construct a pandas dataframe with the 2D embeddings from node2vec, plus the club name that each node belongs to after the split."
   ]
  },
  {
   "cell_type": "code",
   "execution_count": 14,
   "metadata": {
    "id": "ZEjzhwEiC1HD"
   },
   "outputs": [
    {
     "data": {
      "text/html": [
       "<div>\n",
       "<style scoped>\n",
       "    .dataframe tbody tr th:only-of-type {\n",
       "        vertical-align: middle;\n",
       "    }\n",
       "\n",
       "    .dataframe tbody tr th {\n",
       "        vertical-align: top;\n",
       "    }\n",
       "\n",
       "    .dataframe thead th {\n",
       "        text-align: right;\n",
       "    }\n",
       "</style>\n",
       "<table border=\"1\" class=\"dataframe\">\n",
       "  <thead>\n",
       "    <tr style=\"text-align: right;\">\n",
       "      <th></th>\n",
       "      <th>x</th>\n",
       "      <th>y</th>\n",
       "      <th>club</th>\n",
       "    </tr>\n",
       "  </thead>\n",
       "  <tbody>\n",
       "    <tr>\n",
       "      <th>0</th>\n",
       "      <td>0.299368</td>\n",
       "      <td>1.031676</td>\n",
       "      <td>Mr. Hi</td>\n",
       "    </tr>\n",
       "    <tr>\n",
       "      <th>1</th>\n",
       "      <td>-0.034402</td>\n",
       "      <td>0.841729</td>\n",
       "      <td>Mr. Hi</td>\n",
       "    </tr>\n",
       "    <tr>\n",
       "      <th>2</th>\n",
       "      <td>-0.206219</td>\n",
       "      <td>0.759683</td>\n",
       "      <td>Mr. Hi</td>\n",
       "    </tr>\n",
       "    <tr>\n",
       "      <th>3</th>\n",
       "      <td>0.047261</td>\n",
       "      <td>0.888099</td>\n",
       "      <td>Mr. Hi</td>\n",
       "    </tr>\n",
       "    <tr>\n",
       "      <th>4</th>\n",
       "      <td>0.543926</td>\n",
       "      <td>1.184595</td>\n",
       "      <td>Mr. Hi</td>\n",
       "    </tr>\n",
       "    <tr>\n",
       "      <th>5</th>\n",
       "      <td>0.655568</td>\n",
       "      <td>1.266232</td>\n",
       "      <td>Mr. Hi</td>\n",
       "    </tr>\n",
       "    <tr>\n",
       "      <th>6</th>\n",
       "      <td>0.659143</td>\n",
       "      <td>1.264608</td>\n",
       "      <td>Mr. Hi</td>\n",
       "    </tr>\n",
       "    <tr>\n",
       "      <th>7</th>\n",
       "      <td>-0.015699</td>\n",
       "      <td>0.850472</td>\n",
       "      <td>Mr. Hi</td>\n",
       "    </tr>\n",
       "    <tr>\n",
       "      <th>8</th>\n",
       "      <td>-0.456025</td>\n",
       "      <td>0.649791</td>\n",
       "      <td>Mr. Hi</td>\n",
       "    </tr>\n",
       "    <tr>\n",
       "      <th>9</th>\n",
       "      <td>-0.589570</td>\n",
       "      <td>0.595714</td>\n",
       "      <td>Officer</td>\n",
       "    </tr>\n",
       "    <tr>\n",
       "      <th>10</th>\n",
       "      <td>0.620587</td>\n",
       "      <td>1.228384</td>\n",
       "      <td>Mr. Hi</td>\n",
       "    </tr>\n",
       "    <tr>\n",
       "      <th>11</th>\n",
       "      <td>0.286287</td>\n",
       "      <td>1.014012</td>\n",
       "      <td>Mr. Hi</td>\n",
       "    </tr>\n",
       "    <tr>\n",
       "      <th>12</th>\n",
       "      <td>0.173299</td>\n",
       "      <td>0.950667</td>\n",
       "      <td>Mr. Hi</td>\n",
       "    </tr>\n",
       "    <tr>\n",
       "      <th>13</th>\n",
       "      <td>-0.105466</td>\n",
       "      <td>0.801668</td>\n",
       "      <td>Mr. Hi</td>\n",
       "    </tr>\n",
       "    <tr>\n",
       "      <th>14</th>\n",
       "      <td>-0.886257</td>\n",
       "      <td>0.499717</td>\n",
       "      <td>Officer</td>\n",
       "    </tr>\n",
       "    <tr>\n",
       "      <th>15</th>\n",
       "      <td>-0.900866</td>\n",
       "      <td>0.498656</td>\n",
       "      <td>Officer</td>\n",
       "    </tr>\n",
       "    <tr>\n",
       "      <th>16</th>\n",
       "      <td>0.761834</td>\n",
       "      <td>1.337137</td>\n",
       "      <td>Mr. Hi</td>\n",
       "    </tr>\n",
       "    <tr>\n",
       "      <th>17</th>\n",
       "      <td>0.237686</td>\n",
       "      <td>0.981862</td>\n",
       "      <td>Mr. Hi</td>\n",
       "    </tr>\n",
       "    <tr>\n",
       "      <th>18</th>\n",
       "      <td>-0.904415</td>\n",
       "      <td>0.494081</td>\n",
       "      <td>Officer</td>\n",
       "    </tr>\n",
       "    <tr>\n",
       "      <th>19</th>\n",
       "      <td>0.008681</td>\n",
       "      <td>0.856446</td>\n",
       "      <td>Mr. Hi</td>\n",
       "    </tr>\n",
       "    <tr>\n",
       "      <th>20</th>\n",
       "      <td>-0.920858</td>\n",
       "      <td>0.487244</td>\n",
       "      <td>Officer</td>\n",
       "    </tr>\n",
       "    <tr>\n",
       "      <th>21</th>\n",
       "      <td>0.176355</td>\n",
       "      <td>0.951879</td>\n",
       "      <td>Mr. Hi</td>\n",
       "    </tr>\n",
       "    <tr>\n",
       "      <th>22</th>\n",
       "      <td>-0.914140</td>\n",
       "      <td>0.484420</td>\n",
       "      <td>Officer</td>\n",
       "    </tr>\n",
       "    <tr>\n",
       "      <th>23</th>\n",
       "      <td>-1.086568</td>\n",
       "      <td>0.434279</td>\n",
       "      <td>Officer</td>\n",
       "    </tr>\n",
       "    <tr>\n",
       "      <th>24</th>\n",
       "      <td>-1.037496</td>\n",
       "      <td>0.447752</td>\n",
       "      <td>Officer</td>\n",
       "    </tr>\n",
       "    <tr>\n",
       "      <th>25</th>\n",
       "      <td>-1.183144</td>\n",
       "      <td>0.413816</td>\n",
       "      <td>Officer</td>\n",
       "    </tr>\n",
       "    <tr>\n",
       "      <th>26</th>\n",
       "      <td>-1.023103</td>\n",
       "      <td>0.465200</td>\n",
       "      <td>Officer</td>\n",
       "    </tr>\n",
       "    <tr>\n",
       "      <th>27</th>\n",
       "      <td>-0.924996</td>\n",
       "      <td>0.486092</td>\n",
       "      <td>Officer</td>\n",
       "    </tr>\n",
       "    <tr>\n",
       "      <th>28</th>\n",
       "      <td>-0.554125</td>\n",
       "      <td>0.604375</td>\n",
       "      <td>Officer</td>\n",
       "    </tr>\n",
       "    <tr>\n",
       "      <th>29</th>\n",
       "      <td>-1.026274</td>\n",
       "      <td>0.464663</td>\n",
       "      <td>Officer</td>\n",
       "    </tr>\n",
       "    <tr>\n",
       "      <th>30</th>\n",
       "      <td>-0.651652</td>\n",
       "      <td>0.572567</td>\n",
       "      <td>Officer</td>\n",
       "    </tr>\n",
       "    <tr>\n",
       "      <th>31</th>\n",
       "      <td>-0.890164</td>\n",
       "      <td>0.496047</td>\n",
       "      <td>Officer</td>\n",
       "    </tr>\n",
       "    <tr>\n",
       "      <th>32</th>\n",
       "      <td>-0.849762</td>\n",
       "      <td>0.526645</td>\n",
       "      <td>Officer</td>\n",
       "    </tr>\n",
       "    <tr>\n",
       "      <th>33</th>\n",
       "      <td>-0.844446</td>\n",
       "      <td>0.522229</td>\n",
       "      <td>Officer</td>\n",
       "    </tr>\n",
       "  </tbody>\n",
       "</table>\n",
       "</div>"
      ],
      "text/plain": [
       "           x         y     club\n",
       "0   0.299368  1.031676   Mr. Hi\n",
       "1  -0.034402  0.841729   Mr. Hi\n",
       "2  -0.206219  0.759683   Mr. Hi\n",
       "3   0.047261  0.888099   Mr. Hi\n",
       "4   0.543926  1.184595   Mr. Hi\n",
       "5   0.655568  1.266232   Mr. Hi\n",
       "6   0.659143  1.264608   Mr. Hi\n",
       "7  -0.015699  0.850472   Mr. Hi\n",
       "8  -0.456025  0.649791   Mr. Hi\n",
       "9  -0.589570  0.595714  Officer\n",
       "10  0.620587  1.228384   Mr. Hi\n",
       "11  0.286287  1.014012   Mr. Hi\n",
       "12  0.173299  0.950667   Mr. Hi\n",
       "13 -0.105466  0.801668   Mr. Hi\n",
       "14 -0.886257  0.499717  Officer\n",
       "15 -0.900866  0.498656  Officer\n",
       "16  0.761834  1.337137   Mr. Hi\n",
       "17  0.237686  0.981862   Mr. Hi\n",
       "18 -0.904415  0.494081  Officer\n",
       "19  0.008681  0.856446   Mr. Hi\n",
       "20 -0.920858  0.487244  Officer\n",
       "21  0.176355  0.951879   Mr. Hi\n",
       "22 -0.914140  0.484420  Officer\n",
       "23 -1.086568  0.434279  Officer\n",
       "24 -1.037496  0.447752  Officer\n",
       "25 -1.183144  0.413816  Officer\n",
       "26 -1.023103  0.465200  Officer\n",
       "27 -0.924996  0.486092  Officer\n",
       "28 -0.554125  0.604375  Officer\n",
       "29 -1.026274  0.464663  Officer\n",
       "30 -0.651652  0.572567  Officer\n",
       "31 -0.890164  0.496047  Officer\n",
       "32 -0.849762  0.526645  Officer\n",
       "33 -0.844446  0.522229  Officer"
      ]
     },
     "execution_count": 14,
     "metadata": {},
     "output_type": "execute_result"
    }
   ],
   "source": [
    "# YOUR CODE HERE\n",
    "\n",
    "embeddings = [node2vec_wrapper.model.wv[str(node)] for node in KCG.nodes]\n",
    "clubs = [KCG.nodes[node]['club'] for node in list(KCG.nodes())]\n",
    "embeddings = [[x[0], x[1], club] for x, club in zip(embeddings, clubs)]\n",
    "df = pd.DataFrame(embeddings, columns=['x', 'y', 'club'])\n",
    "df"
   ]
  },
  {
   "cell_type": "markdown",
   "metadata": {},
   "source": [
    "Nodes who stayed with the Mr. Hi will be plotted in red, while nodes who moved with the Officer will be plotted in blue"
   ]
  },
  {
   "cell_type": "code",
   "execution_count": 15,
   "metadata": {
    "id": "fJBTilMGLInb"
   },
   "outputs": [
    {
     "data": {
      "text/html": [
       "<div>\n",
       "<style scoped>\n",
       "    .dataframe tbody tr th:only-of-type {\n",
       "        vertical-align: middle;\n",
       "    }\n",
       "\n",
       "    .dataframe tbody tr th {\n",
       "        vertical-align: top;\n",
       "    }\n",
       "\n",
       "    .dataframe thead th {\n",
       "        text-align: right;\n",
       "    }\n",
       "</style>\n",
       "<table border=\"1\" class=\"dataframe\">\n",
       "  <thead>\n",
       "    <tr style=\"text-align: right;\">\n",
       "      <th></th>\n",
       "      <th>x</th>\n",
       "      <th>y</th>\n",
       "      <th>club</th>\n",
       "      <th>color</th>\n",
       "    </tr>\n",
       "  </thead>\n",
       "  <tbody>\n",
       "    <tr>\n",
       "      <th>0</th>\n",
       "      <td>0.299368</td>\n",
       "      <td>1.031676</td>\n",
       "      <td>Mr. Hi</td>\n",
       "      <td>red</td>\n",
       "    </tr>\n",
       "    <tr>\n",
       "      <th>1</th>\n",
       "      <td>-0.034402</td>\n",
       "      <td>0.841729</td>\n",
       "      <td>Mr. Hi</td>\n",
       "      <td>red</td>\n",
       "    </tr>\n",
       "    <tr>\n",
       "      <th>2</th>\n",
       "      <td>-0.206219</td>\n",
       "      <td>0.759683</td>\n",
       "      <td>Mr. Hi</td>\n",
       "      <td>red</td>\n",
       "    </tr>\n",
       "    <tr>\n",
       "      <th>3</th>\n",
       "      <td>0.047261</td>\n",
       "      <td>0.888099</td>\n",
       "      <td>Mr. Hi</td>\n",
       "      <td>red</td>\n",
       "    </tr>\n",
       "    <tr>\n",
       "      <th>4</th>\n",
       "      <td>0.543926</td>\n",
       "      <td>1.184595</td>\n",
       "      <td>Mr. Hi</td>\n",
       "      <td>red</td>\n",
       "    </tr>\n",
       "    <tr>\n",
       "      <th>5</th>\n",
       "      <td>0.655568</td>\n",
       "      <td>1.266232</td>\n",
       "      <td>Mr. Hi</td>\n",
       "      <td>red</td>\n",
       "    </tr>\n",
       "    <tr>\n",
       "      <th>6</th>\n",
       "      <td>0.659143</td>\n",
       "      <td>1.264608</td>\n",
       "      <td>Mr. Hi</td>\n",
       "      <td>red</td>\n",
       "    </tr>\n",
       "    <tr>\n",
       "      <th>7</th>\n",
       "      <td>-0.015699</td>\n",
       "      <td>0.850472</td>\n",
       "      <td>Mr. Hi</td>\n",
       "      <td>red</td>\n",
       "    </tr>\n",
       "    <tr>\n",
       "      <th>8</th>\n",
       "      <td>-0.456025</td>\n",
       "      <td>0.649791</td>\n",
       "      <td>Mr. Hi</td>\n",
       "      <td>red</td>\n",
       "    </tr>\n",
       "    <tr>\n",
       "      <th>9</th>\n",
       "      <td>-0.589570</td>\n",
       "      <td>0.595714</td>\n",
       "      <td>Officer</td>\n",
       "      <td>blue</td>\n",
       "    </tr>\n",
       "    <tr>\n",
       "      <th>10</th>\n",
       "      <td>0.620587</td>\n",
       "      <td>1.228384</td>\n",
       "      <td>Mr. Hi</td>\n",
       "      <td>red</td>\n",
       "    </tr>\n",
       "    <tr>\n",
       "      <th>11</th>\n",
       "      <td>0.286287</td>\n",
       "      <td>1.014012</td>\n",
       "      <td>Mr. Hi</td>\n",
       "      <td>red</td>\n",
       "    </tr>\n",
       "    <tr>\n",
       "      <th>12</th>\n",
       "      <td>0.173299</td>\n",
       "      <td>0.950667</td>\n",
       "      <td>Mr. Hi</td>\n",
       "      <td>red</td>\n",
       "    </tr>\n",
       "    <tr>\n",
       "      <th>13</th>\n",
       "      <td>-0.105466</td>\n",
       "      <td>0.801668</td>\n",
       "      <td>Mr. Hi</td>\n",
       "      <td>red</td>\n",
       "    </tr>\n",
       "    <tr>\n",
       "      <th>14</th>\n",
       "      <td>-0.886257</td>\n",
       "      <td>0.499717</td>\n",
       "      <td>Officer</td>\n",
       "      <td>blue</td>\n",
       "    </tr>\n",
       "    <tr>\n",
       "      <th>15</th>\n",
       "      <td>-0.900866</td>\n",
       "      <td>0.498656</td>\n",
       "      <td>Officer</td>\n",
       "      <td>blue</td>\n",
       "    </tr>\n",
       "    <tr>\n",
       "      <th>16</th>\n",
       "      <td>0.761834</td>\n",
       "      <td>1.337137</td>\n",
       "      <td>Mr. Hi</td>\n",
       "      <td>red</td>\n",
       "    </tr>\n",
       "    <tr>\n",
       "      <th>17</th>\n",
       "      <td>0.237686</td>\n",
       "      <td>0.981862</td>\n",
       "      <td>Mr. Hi</td>\n",
       "      <td>red</td>\n",
       "    </tr>\n",
       "    <tr>\n",
       "      <th>18</th>\n",
       "      <td>-0.904415</td>\n",
       "      <td>0.494081</td>\n",
       "      <td>Officer</td>\n",
       "      <td>blue</td>\n",
       "    </tr>\n",
       "    <tr>\n",
       "      <th>19</th>\n",
       "      <td>0.008681</td>\n",
       "      <td>0.856446</td>\n",
       "      <td>Mr. Hi</td>\n",
       "      <td>red</td>\n",
       "    </tr>\n",
       "    <tr>\n",
       "      <th>20</th>\n",
       "      <td>-0.920858</td>\n",
       "      <td>0.487244</td>\n",
       "      <td>Officer</td>\n",
       "      <td>blue</td>\n",
       "    </tr>\n",
       "    <tr>\n",
       "      <th>21</th>\n",
       "      <td>0.176355</td>\n",
       "      <td>0.951879</td>\n",
       "      <td>Mr. Hi</td>\n",
       "      <td>red</td>\n",
       "    </tr>\n",
       "    <tr>\n",
       "      <th>22</th>\n",
       "      <td>-0.914140</td>\n",
       "      <td>0.484420</td>\n",
       "      <td>Officer</td>\n",
       "      <td>blue</td>\n",
       "    </tr>\n",
       "    <tr>\n",
       "      <th>23</th>\n",
       "      <td>-1.086568</td>\n",
       "      <td>0.434279</td>\n",
       "      <td>Officer</td>\n",
       "      <td>blue</td>\n",
       "    </tr>\n",
       "    <tr>\n",
       "      <th>24</th>\n",
       "      <td>-1.037496</td>\n",
       "      <td>0.447752</td>\n",
       "      <td>Officer</td>\n",
       "      <td>blue</td>\n",
       "    </tr>\n",
       "    <tr>\n",
       "      <th>25</th>\n",
       "      <td>-1.183144</td>\n",
       "      <td>0.413816</td>\n",
       "      <td>Officer</td>\n",
       "      <td>blue</td>\n",
       "    </tr>\n",
       "    <tr>\n",
       "      <th>26</th>\n",
       "      <td>-1.023103</td>\n",
       "      <td>0.465200</td>\n",
       "      <td>Officer</td>\n",
       "      <td>blue</td>\n",
       "    </tr>\n",
       "    <tr>\n",
       "      <th>27</th>\n",
       "      <td>-0.924996</td>\n",
       "      <td>0.486092</td>\n",
       "      <td>Officer</td>\n",
       "      <td>blue</td>\n",
       "    </tr>\n",
       "    <tr>\n",
       "      <th>28</th>\n",
       "      <td>-0.554125</td>\n",
       "      <td>0.604375</td>\n",
       "      <td>Officer</td>\n",
       "      <td>blue</td>\n",
       "    </tr>\n",
       "    <tr>\n",
       "      <th>29</th>\n",
       "      <td>-1.026274</td>\n",
       "      <td>0.464663</td>\n",
       "      <td>Officer</td>\n",
       "      <td>blue</td>\n",
       "    </tr>\n",
       "    <tr>\n",
       "      <th>30</th>\n",
       "      <td>-0.651652</td>\n",
       "      <td>0.572567</td>\n",
       "      <td>Officer</td>\n",
       "      <td>blue</td>\n",
       "    </tr>\n",
       "    <tr>\n",
       "      <th>31</th>\n",
       "      <td>-0.890164</td>\n",
       "      <td>0.496047</td>\n",
       "      <td>Officer</td>\n",
       "      <td>blue</td>\n",
       "    </tr>\n",
       "    <tr>\n",
       "      <th>32</th>\n",
       "      <td>-0.849762</td>\n",
       "      <td>0.526645</td>\n",
       "      <td>Officer</td>\n",
       "      <td>blue</td>\n",
       "    </tr>\n",
       "    <tr>\n",
       "      <th>33</th>\n",
       "      <td>-0.844446</td>\n",
       "      <td>0.522229</td>\n",
       "      <td>Officer</td>\n",
       "      <td>blue</td>\n",
       "    </tr>\n",
       "  </tbody>\n",
       "</table>\n",
       "</div>"
      ],
      "text/plain": [
       "           x         y     club color\n",
       "0   0.299368  1.031676   Mr. Hi   red\n",
       "1  -0.034402  0.841729   Mr. Hi   red\n",
       "2  -0.206219  0.759683   Mr. Hi   red\n",
       "3   0.047261  0.888099   Mr. Hi   red\n",
       "4   0.543926  1.184595   Mr. Hi   red\n",
       "5   0.655568  1.266232   Mr. Hi   red\n",
       "6   0.659143  1.264608   Mr. Hi   red\n",
       "7  -0.015699  0.850472   Mr. Hi   red\n",
       "8  -0.456025  0.649791   Mr. Hi   red\n",
       "9  -0.589570  0.595714  Officer  blue\n",
       "10  0.620587  1.228384   Mr. Hi   red\n",
       "11  0.286287  1.014012   Mr. Hi   red\n",
       "12  0.173299  0.950667   Mr. Hi   red\n",
       "13 -0.105466  0.801668   Mr. Hi   red\n",
       "14 -0.886257  0.499717  Officer  blue\n",
       "15 -0.900866  0.498656  Officer  blue\n",
       "16  0.761834  1.337137   Mr. Hi   red\n",
       "17  0.237686  0.981862   Mr. Hi   red\n",
       "18 -0.904415  0.494081  Officer  blue\n",
       "19  0.008681  0.856446   Mr. Hi   red\n",
       "20 -0.920858  0.487244  Officer  blue\n",
       "21  0.176355  0.951879   Mr. Hi   red\n",
       "22 -0.914140  0.484420  Officer  blue\n",
       "23 -1.086568  0.434279  Officer  blue\n",
       "24 -1.037496  0.447752  Officer  blue\n",
       "25 -1.183144  0.413816  Officer  blue\n",
       "26 -1.023103  0.465200  Officer  blue\n",
       "27 -0.924996  0.486092  Officer  blue\n",
       "28 -0.554125  0.604375  Officer  blue\n",
       "29 -1.026274  0.464663  Officer  blue\n",
       "30 -0.651652  0.572567  Officer  blue\n",
       "31 -0.890164  0.496047  Officer  blue\n",
       "32 -0.849762  0.526645  Officer  blue\n",
       "33 -0.844446  0.522229  Officer  blue"
      ]
     },
     "execution_count": 15,
     "metadata": {},
     "output_type": "execute_result"
    }
   ],
   "source": [
    "# YOUR CODE HERE\n",
    "df['color'] = df['club'].apply(lambda x: 'red' if x=='Mr. Hi' else 'blue')\n",
    "df"
   ]
  },
  {
   "cell_type": "code",
   "execution_count": 16,
   "metadata": {},
   "outputs": [
    {
     "data": {
      "image/png": "[encoded data removed]",
      "text/plain": [
       "<Figure size 640x480 with 1 Axes>"
      ]
     },
     "metadata": {},
     "output_type": "display_data"
    }
   ],
   "source": [
    "plt.scatter(x=df['x'], y=df['y'], color=df['color'])\n",
    "plt.show()"
   ]
  },
  {
   "cell_type": "markdown",
   "metadata": {
    "id": "e6vmpmj6Ylph"
   },
   "source": [
    "If your example trained correctly, you should notice a clear separation between the blue and red nodes.  Solely from the graph structure, node2vec could predict how the Zachary's Karate Club split!\n",
    "\n",
    "Tune the hyperparameters ```p``` and ```q```, and notice how they affect the resulting embeddings."
   ]
  },
  {
   "cell_type": "markdown",
   "metadata": {
    "id": "x15OQeyys1xd"
   },
   "source": [
    "Now you will study the behavior of node2vec on [barbell graphs](https://urldefense.com/v3/__https://en.wikipedia.org/wiki/Barbell_graph).*5Cn__;JQ!!Mih3wA!Fokqf49fxZlFzshNIWB1K4KQJb--bEs4zQ9f139N2mC_sT_L3sTqDWiaw_4bWu8-Cs2vX13fbxwQQtoeu0DUMUE$ \n",
    "\n",
    "Below you can see a toy example of a barbell graph generated with NetworkX."
   ]
  },
  {
   "cell_type": "code",
   "execution_count": 17,
   "metadata": {
    "id": "xUYxs4E8aHgG"
   },
   "outputs": [
    {
     "data": {
      "image/png": "[encoded data removed]",
      "text/plain": [
       "<Figure size 640x480 with 1 Axes>"
      ]
     },
     "metadata": {},
     "output_type": "display_data"
    }
   ],
   "source": [
    "toy_barbell = nx.barbell_graph(7, 0)\n",
    "nx.draw_kamada_kawai(toy_barbell)"
   ]
  },
  {
   "cell_type": "markdown",
   "metadata": {
    "id": "G7K3-57FyD8D"
   },
   "source": [
    "\n",
    "\n",
    "\n",
    "Generate a larger barbell graph, where each complete graph has exactly 1000 nodes, and the path length between the complete graphs is equal to 1 (i.e., all the nodes in the barbell graph belong to either one of the two complete graphs, and the connecting path does not have any internal node).\n",
    "\n",
    "Then, learn node2vec embeddings on this graph, setting ```p = 1, q = 1``` and ```d = 10```."
   ]
  },
  {
   "cell_type": "code",
   "execution_count": 18,
   "metadata": {
    "id": "k_rmp-SvaIOt"
   },
   "outputs": [
    {
     "data": {
      "application/vnd.jupyter.widget-view+json": {
       "model_id": "9aa21db427fb45949360dfb1dfdf96a8",
       "version_major": 2,
       "version_minor": 0
      },
      "text/plain": [
       "Computing transition probabilities:   0%|          | 0/201 [00:00<?, ?it/s]"
      ]
     },
     "metadata": {},
     "output_type": "display_data"
    },
    {
     "name": "stderr",
     "output_type": "stream",
     "text": [
      "Generating walks (CPU: 1): 100%|██████████| 10/10 [00:02<00:00,  4.16it/s]\n"
     ]
    }
   ],
   "source": [
    "# YOUR CODE HERE\n",
    "larger_barbell = nx.barbell_graph(100, 1)\n",
    "node2vec = Node2Vec(larger_barbell, dimensions=10, p=1, q=1)\n",
    "n2v = node2vec.fit(window=10, min_count=1)"
   ]
  },
  {
   "cell_type": "markdown",
   "metadata": {
    "id": "fyxZBVwhzLQe"
   },
   "source": [
    "Write a function that takes as input a node id ```n``` in the graph (e.g., ```5```) and returns a list containing the cosine similarity between the node2vec vector of the input node ```n``` and all the nodes in the given barbell graph (including the similarity with ```n``` itself)."
   ]
  },
  {
   "cell_type": "code",
   "execution_count": 23,
   "metadata": {
    "id": "aq7advtkjXSp"
   },
   "outputs": [
    {
     "data": {
      "text/plain": [
       "[0.9862007,\n",
       " 0.9785882,\n",
       " 0.9696264,\n",
       " 0.9677365,\n",
       " 0.97120154,\n",
       " 0.99999994,\n",
       " 0.97229296,\n",
       " 0.984051,\n",
       " 0.96122444,\n",
       " 0.9906959,\n",
       " 0.98214954,\n",
       " 0.96784097,\n",
       " 0.98149997,\n",
       " 0.9767437,\n",
       " 0.98465276,\n",
       " 0.98850125,\n",
       " 0.98163193,\n",
       " 0.9715714,\n",
       " 0.974469,\n",
       " 0.9845152,\n",
       " 0.98716533,\n",
       " 0.9813739,\n",
       " 0.9855375,\n",
       " 0.9893638,\n",
       " 0.97525823,\n",
       " 0.9594481,\n",
       " 0.98829323,\n",
       " 0.99014986,\n",
       " 0.9917932,\n",
       " 0.97363174,\n",
       " 0.9755676,\n",
       " 0.94157976,\n",
       " 0.96262383,\n",
       " 0.99405897,\n",
       " 0.969818,\n",
       " 0.9905373,\n",
       " 0.97749865,\n",
       " 0.9767945,\n",
       " 0.9783688,\n",
       " 0.9565791,\n",
       " 0.9763405,\n",
       " 0.98572916,\n",
       " 0.98328406,\n",
       " 0.9751558,\n",
       " 0.9729925,\n",
       " 0.9791185,\n",
       " 0.98738015,\n",
       " 0.9785197,\n",
       " 0.9763133,\n",
       " 0.98260665,\n",
       " 0.98319227,\n",
       " 0.9832662,\n",
       " 0.97447246,\n",
       " 0.9702199,\n",
       " 0.980943,\n",
       " 0.98674405,\n",
       " 0.9676344,\n",
       " 0.98318046,\n",
       " 0.97626567,\n",
       " 0.9753332,\n",
       " 0.97724634,\n",
       " 0.98779774,\n",
       " 0.9783024,\n",
       " 0.98464406,\n",
       " 0.97926366,\n",
       " 0.98558193,\n",
       " 0.9808592,\n",
       " 0.9853204,\n",
       " 0.9700026,\n",
       " 0.9771761,\n",
       " 0.9783429,\n",
       " 0.9734957,\n",
       " 0.9699809,\n",
       " 0.98376656,\n",
       " 0.99051386,\n",
       " 0.990683,\n",
       " 0.9840913,\n",
       " 0.98990625,\n",
       " 0.97637427,\n",
       " 0.9734801,\n",
       " 0.9714352,\n",
       " 0.9915134,\n",
       " 0.9833973,\n",
       " 0.9900401,\n",
       " 0.975535,\n",
       " 0.9797008,\n",
       " 0.97867894,\n",
       " 0.9881966,\n",
       " 0.9797033,\n",
       " 0.9876357,\n",
       " 0.9787661,\n",
       " 0.9891617,\n",
       " 0.9756694,\n",
       " 0.9853825,\n",
       " 0.97982645,\n",
       " 0.9921799,\n",
       " 0.9778449,\n",
       " 0.9746813,\n",
       " 0.9750056,\n",
       " 0.9941036,\n",
       " 0.10100257,\n",
       " 0.11379356,\n",
       " 0.109109886,\n",
       " 0.10188901,\n",
       " 0.116192564,\n",
       " 0.112058595,\n",
       " 0.11638639,\n",
       " 0.09532907,\n",
       " 0.10626378,\n",
       " 0.11644737,\n",
       " 0.09495962,\n",
       " 0.12113864,\n",
       " 0.093069136,\n",
       " 0.10712607,\n",
       " 0.115856186,\n",
       " 0.114324175,\n",
       " 0.0988857,\n",
       " 0.1125813,\n",
       " 0.109275505,\n",
       " 0.095907025,\n",
       " 0.10507344,\n",
       " 0.119723976,\n",
       " 0.11461948,\n",
       " 0.106158085,\n",
       " 0.110110395,\n",
       " 0.11933651,\n",
       " 0.09486,\n",
       " 0.10459707,\n",
       " 0.114207454,\n",
       " 0.10857237,\n",
       " 0.11033328,\n",
       " 0.11094139,\n",
       " 0.11068636,\n",
       " 0.10990707,\n",
       " 0.105888866,\n",
       " 0.11318667,\n",
       " 0.12395666,\n",
       " 0.11541195,\n",
       " 0.0970759,\n",
       " 0.11018219,\n",
       " 0.11517639,\n",
       " 0.11626689,\n",
       " 0.122950755,\n",
       " 0.12488641,\n",
       " 0.1108052,\n",
       " 0.10554624,\n",
       " 0.11200414,\n",
       " 0.11010842,\n",
       " 0.10024867,\n",
       " 0.1000455,\n",
       " 0.09821627,\n",
       " 0.113633774,\n",
       " 0.114693224,\n",
       " 0.10673593,\n",
       " 0.11182503,\n",
       " 0.10329781,\n",
       " 0.115357906,\n",
       " 0.10179026,\n",
       " 0.12360176,\n",
       " 0.118228845,\n",
       " 0.10390984,\n",
       " 0.11024226,\n",
       " 0.11187985,\n",
       " 0.11775483,\n",
       " 0.09689668,\n",
       " 0.098135695,\n",
       " 0.10733561,\n",
       " 0.10313652,\n",
       " 0.12059288,\n",
       " 0.11102408,\n",
       " 0.11520057,\n",
       " 0.11491146,\n",
       " 0.1072133,\n",
       " 0.1183964,\n",
       " 0.11959204,\n",
       " 0.12029638,\n",
       " 0.106683455,\n",
       " 0.10487743,\n",
       " 0.1034772,\n",
       " 0.109804496,\n",
       " 0.11798825,\n",
       " 0.11356027,\n",
       " 0.111205615,\n",
       " 0.11344047,\n",
       " 0.11348565,\n",
       " 0.11123059,\n",
       " 0.114782944,\n",
       " 0.11464737,\n",
       " 0.11012686,\n",
       " 0.11527449,\n",
       " 0.113664754,\n",
       " 0.1213499,\n",
       " 0.11160834,\n",
       " 0.10306279,\n",
       " 0.11601396,\n",
       " 0.09140655,\n",
       " 0.11540009,\n",
       " 0.107537195,\n",
       " 0.122913666,\n",
       " 0.09221996,\n",
       " 0.8099217]"
      ]
     },
     "execution_count": 23,
     "metadata": {},
     "output_type": "execute_result"
    }
   ],
   "source": [
    "# YOUR CODE HERE\n",
    "\n",
    "import numpy as np\n",
    "from sklearn.metrics.pairwise import cosine_similarity\n",
    "\n",
    "def cosine_similarity_with_node(graph, node_id, node2vec_vectors):\n",
    "\n",
    "    input_vector = node2vec_vectors.wv[str(node_id)]\n",
    "    similarities = []\n",
    "    for other_node in graph.nodes():\n",
    "        other_vector = node2vec_vectors.wv[str(other_node)]\n",
    "        similarity = cosine_similarity([input_vector], [other_vector])[0][0]\n",
    "        similarities.append(similarity)\n",
    "\n",
    "    return similarities\n",
    "\n",
    "node_id_to_check = 5\n",
    "similarities = cosine_similarity_with_node(larger_barbell, node_id_to_check, n2v)\n",
    "similarities"
   ]
  },
  {
   "cell_type": "markdown",
   "metadata": {
    "id": "zw1oNDDD2dZO"
   },
   "source": [
    "Generate another barbell graph, this time adding a path of length 51 between the two complete graphs. To find out how, refer to the NetworkX documentation: [https://urldefense.com/v3/__https://networkx.github.io/documentation/stable/reference/generated/networkx.generators.classic.barbell_graph.html*networkx.generators.classic.barbell_graph*(https:/*networkx.github.io/documentation/stable/reference/generated/networkx.generators.classic.barbell_graph.html*networkx.generators.classic.barbell_graph)*5Cn__;I10vIyU!!Mih3wA!Fokqf49fxZlFzshNIWB1K4KQJb--bEs4zQ9f139N2mC_sT_L3sTqDWiaw_4bWu8-Cs2vX13fbxwQQtoesXYpLu0$ \n",
    "\n",
    "Learn the node2vec embeddings for the nodes of this new graph, using the same hyperparameters as before."
   ]
  },
  {
   "cell_type": "code",
   "execution_count": 25,
   "metadata": {
    "id": "OlPg6k6z65Gk"
   },
   "outputs": [
    {
     "data": {
      "application/vnd.jupyter.widget-view+json": {
       "model_id": "94e351455ab04e1f9c84133a173b939f",
       "version_major": 2,
       "version_minor": 0
      },
      "text/plain": [
       "Computing transition probabilities:   0%|          | 0/201 [00:00<?, ?it/s]"
      ]
     },
     "metadata": {},
     "output_type": "display_data"
    },
    {
     "name": "stderr",
     "output_type": "stream",
     "text": [
      "Generating walks (CPU: 1): 100%|██████████| 50/50 [00:04<00:00, 11.74it/s]\n",
      "Generating walks (CPU: 2): 100%|██████████| 50/50 [00:04<00:00, 11.28it/s]\n"
     ]
    }
   ],
   "source": [
    "# YOUR CODE HERE\n",
    "extra_barbell = nx.barbell_graph(200, 50)\n",
    "extra_vec = Node2VecWrapper(dimensions=10)\n",
    "extra_vec.fit(larger_barbell)"
   ]
  },
  {
   "cell_type": "code",
   "execution_count": null,
   "metadata": {},
   "outputs": [],
   "source": []
  }
 ],
 "metadata": {
  "kernelspec": {
   "display_name": "Python 3 (ipykernel)",
   "language": "python",
   "name": "python3"
  },
  "language_info": {
   "codemirror_mode": {
    "name": "ipython",
    "version": 3
   },
   "file_extension": ".py",
   "mimetype": "text/x-python",
   "name": "python",
   "nbconvert_exporter": "python",
   "pygments_lexer": "ipython3",
   "version": "3.9.12"
  }
 },
 "nbformat": 4,
 "nbformat_minor": 1
}
